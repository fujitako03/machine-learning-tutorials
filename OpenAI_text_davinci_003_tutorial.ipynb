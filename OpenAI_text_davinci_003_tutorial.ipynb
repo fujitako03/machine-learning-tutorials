{
  "nbformat": 4,
  "nbformat_minor": 0,
  "metadata": {
    "colab": {
      "provenance": [],
      "authorship_tag": "ABX9TyO+VJsoKvn2ZpiWUens0Rwb",
      "include_colab_link": true
    },
    "kernelspec": {
      "name": "python3",
      "display_name": "Python 3"
    },
    "language_info": {
      "name": "python"
    }
  },
  "cells": [
    {
      "cell_type": "markdown",
      "metadata": {
        "id": "view-in-github",
        "colab_type": "text"
      },
      "source": [
        "<a href=\"https://colab.research.google.com/github/fujitako03/machine-learning-tutorials/blob/main/OpenAI_text_davinci_003_tutorial.ipynb\" target=\"_parent\"><img src=\"https://colab.research.google.com/assets/colab-badge.svg\" alt=\"Open In Colab\"/></a>"
      ]
    },
    {
      "cell_type": "markdown",
      "source": [
        "# Open AIのChatGPT（text-davinci-003）を使ってみる\n",
        "[公式サイト](https://beta.openai.com/examples/default-friend-chat)"
      ],
      "metadata": {
        "id": "o-oweO-GxktW"
      }
    },
    {
      "cell_type": "code",
      "source": [
        "!pip install openai"
      ],
      "metadata": {
        "id": "L6R2n0vXyzhl"
      },
      "execution_count": null,
      "outputs": []
    },
    {
      "cell_type": "code",
      "execution_count": 2,
      "metadata": {
        "id": "RnbESRpsxfIr"
      },
      "outputs": [],
      "source": [
        "class Config:\n",
        "  openai_api_key=\"<API_KEY>\""
      ]
    },
    {
      "cell_type": "markdown",
      "source": [
        "## とりあえず動かしてみる\n",
        "サンプルコードをそのまま採用"
      ],
      "metadata": {
        "id": "LmYCkXcTzS0d"
      }
    },
    {
      "cell_type": "code",
      "source": [
        "import openai\n",
        "\n",
        "openai.api_key = Config.openai_api_key\n",
        "\n",
        "response = openai.Completion.create(\n",
        "  model=\"text-davinci-003\",\n",
        "  prompt=\"You: What have you been up to?\\nFriend: Watching old movies.\\nYou: Did you watch anything interesting?\\nFriend:\",\n",
        "  temperature=0.5,\n",
        "  max_tokens=60,\n",
        "  top_p=1.0,\n",
        "  frequency_penalty=0.5,\n",
        "  presence_penalty=0.0,\n",
        "  stop=[\"You:\"]\n",
        ")"
      ],
      "metadata": {
        "id": "IHgAk-b6xk_F"
      },
      "execution_count": 5,
      "outputs": []
    },
    {
      "cell_type": "code",
      "source": [
        "response[\"choices\"][0][\"text\"]"
      ],
      "metadata": {
        "colab": {
          "base_uri": "https://localhost:8080/",
          "height": 35
        },
        "id": "mjLvpCS5y_Mx",
        "outputId": "70389c7b-5bb0-4e54-8602-4038ca110ce8"
      },
      "execution_count": 12,
      "outputs": [
        {
          "output_type": "execute_result",
          "data": {
            "text/plain": [
              "' Yeah, I watched a classic western called The Good, the Bad and the Ugly. It was really good!'"
            ],
            "application/vnd.google.colaboratory.intrinsic+json": {
              "type": "string"
            }
          },
          "metadata": {},
          "execution_count": 12
        }
      ]
    },
    {
      "cell_type": "markdown",
      "source": [
        "## パラメータの意味を理解する"
      ],
      "metadata": {
        "id": "RWAA3iAcz-VO"
      }
    },
    {
      "cell_type": "code",
      "source": [
        "response = openai.Completion.create(\n",
        "  model=\"text-davinci-003\",\n",
        "  prompt=\"You: What have you been up to?\\nFriend: Watching old movies.\\nYou: Did you watch anything interesting?\\nFriend:\",\n",
        "  temperature=0, # ランダム性\n",
        "  max_tokens=20,# 最大単語数\n",
        "  top_p=1.0, # ランダム性\n",
        "  frequency_penalty=0.5, # 頻出のペナルティ\n",
        "  presence_penalty=0.0 # 同じ話題のペナルティ\n",
        "  stop=[\"You:\"]\n",
        ")\n",
        "response[\"choices\"][0][\"text\"]"
      ],
      "metadata": {
        "colab": {
          "base_uri": "https://localhost:8080/",
          "height": 35
        },
        "id": "Qxy1TISQ0BoB",
        "outputId": "38698437-d191-407a-9bbd-15359f26a5db"
      },
      "execution_count": 17,
      "outputs": [
        {
          "output_type": "execute_result",
          "data": {
            "text/plain": [
              "' Yeah, I watched The Godfather. It was really good.'"
            ],
            "application/vnd.google.colaboratory.intrinsic+json": {
              "type": "string"
            }
          },
          "metadata": {},
          "execution_count": 17
        }
      ]
    },
    {
      "cell_type": "markdown",
      "source": [
        "### temperature(デフォルト1)\n",
        "0から2の範囲を取り、出力する単語のランダム性を指定する\n",
        "0であれば毎回同じ文章を生成します（分類タスクに適している）。2であれば完全にランダムな文章になります。その中間(ドキュメントでは0.9を推奨)を選ぶことで適度にランダムで意味の通った文章を生成することが可能です。\n",
        "\n",
        "top_pとの同時変更は推奨しない\n",
        "\n",
        "### top_p \n",
        "top_pを0.1にすると、予測する次の単語は確率の高い上位10%の候補から選択されます。小さくすればするほど候補が確率の高いものに絞られるため、確定的になっていきます。大きくすれば色んな単語から選ぶようになるので、よりランダム性が強くなります。\n",
        "\n",
        "temperatureとの同時変更はお勧めしない\n",
        "\n",
        "### max_tokens\n",
        "最大単語数\n",
        "\n",
        "### presence_penalty\n",
        "2.0 から 2.0 の間の数値。正の値は、新しいトークンがこれまでのテキストに現れるかどうかに基づいてペナルティを課し、新しいトピックについて話すモデルの可能性を高める。\n",
        "\n",
        "### frequency_penalty\n",
        "2.0 から 2.0 の間の数。正の値は、これまでのテキストにおける既存の頻度に基づいて新しいトークンにペナルティを課し、モデルが同じ行をそのまま繰り返す可能性を低下させる。\n",
        "\n",
        "### stop\n",
        "それ以上の生成を停止する最大4つのシーケンス\n"
      ],
      "metadata": {
        "id": "n9DScSE2151W"
      }
    },
    {
      "cell_type": "markdown",
      "source": [
        "## temperatureを変えて実行してみる"
      ],
      "metadata": {
        "id": "XPwSOod69vmB"
      }
    },
    {
      "cell_type": "code",
      "source": [
        "temperature_samples = [0, 0.5, 1, 1.5, 2]\n",
        "for temperature in temperature_samples:\n",
        "  response = openai.Completion.create(\n",
        "    model=\"text-davinci-003\",\n",
        "    prompt=\"私: どんな映画が好き？私はハリーポッターみたいなファンタジー系が好きかな。\\n友達:\",\n",
        "    temperature=temperature,\n",
        "    max_tokens=60,\n",
        "    top_p=1.0,\n",
        "    frequency_penalty=0.5,\n",
        "    presence_penalty=0.0,\n",
        "    stop=[\"私:\"]\n",
        "  )\n",
        "  print(temperature, response[\"choices\"][0][\"text\"])"
      ],
      "metadata": {
        "colab": {
          "base_uri": "https://localhost:8080/"
        },
        "id": "Xb5pyqy09wJv",
        "outputId": "937ca1b6-ab5d-47bc-9be9-34abed449bbd"
      },
      "execution_count": 28,
      "outputs": [
        {
          "output_type": "stream",
          "name": "stdout",
          "text": [
            "0  私もハリーポッターが好きです！私はアクション映画も好きです。\n",
            "0.5  私は、サスペンス系の映画が好きです。また、コメディー映画も好きです。\n",
            "1  私もハリーポッターの映画が好きです。他にはSFの物語が好きです。\n",
            "1.5  いや、私も同じですね! こだわりの、乞食ハサールも超絶個性的ジャンルがtopです！ある\n",
            "2  あーそれ好きだ！立\n"
          ]
        }
      ]
    },
    {
      "cell_type": "markdown",
      "source": [
        "1.5以上はかなりおかしい"
      ],
      "metadata": {
        "id": "LKsNuO3Y-Er9"
      }
    },
    {
      "cell_type": "markdown",
      "source": [
        "## top_pを変えて実行してみる"
      ],
      "metadata": {
        "id": "d5yhb2Qv-Fv_"
      }
    },
    {
      "cell_type": "code",
      "source": [
        "top_p_samples = [0, 0.25, 0.5, 0.75 1]\n",
        "for top_p in top_p_samples:\n",
        "  response = openai.Completion.create(\n",
        "    model=\"text-davinci-003\",\n",
        "    prompt=\"私: どんな映画が好き？私はハリーポッターみたいなファンタジー系が好きかな。\\n友達:\",\n",
        "    temperature=1,\n",
        "    max_tokens=60,\n",
        "    top_p=top_p,\n",
        "    frequency_penalty=0.5,\n",
        "    presence_penalty=0.0,\n",
        "    stop=[\"私:\"]\n",
        "  )\n",
        "  print(top_p, response[\"choices\"][0][\"text\"])"
      ],
      "metadata": {
        "colab": {
          "base_uri": "https://localhost:8080/"
        },
        "id": "kG3Cfy31-GPT",
        "outputId": "ba78f175-7d96-440b-c868-55ffe9ae450b"
      },
      "execution_count": 31,
      "outputs": [
        {
          "output_type": "stream",
          "name": "stdout",
          "text": [
            "0  私もハリーポッターが好きです！私は、アクション映画やコメディーも好きです。\n",
            "0.25  私もハリーポッターが好きです！私は、アクション映画やコメディーも好きです。\n",
            "0.5  私もハリーポッターは大好きです！他には、スリラーやコメディなども好きです。\n",
            "0.75  私もそう思うよ！僕はアクション系が好きだよ。\n",
            "1  私はコメディやサスペンスの映画が好きです。今日映画館に行ったとき、話題のサスペンスを\n"
          ]
        }
      ]
    },
    {
      "cell_type": "markdown",
      "source": [
        "## presence_penaltyを変えて実行してみる"
      ],
      "metadata": {
        "id": "JDU0QCjG5oXZ"
      }
    },
    {
      "cell_type": "code",
      "source": [
        "presence_penalty_samples = [-2, -1.5, -1, -0.5, 0, 0.5, 1, 1.5, 2]\n",
        "for presence_penalty in presence_penalty_samples:\n",
        "  response = openai.Completion.create(\n",
        "    model=\"text-davinci-003\",\n",
        "    prompt=\"私: 今日も運動したよ！\\n友達: すごいね！これで2日連続だね\\私: ありがとう！あなたのおかげだね\\n友達:\",\n",
        "    temperature=1,\n",
        "    max_tokens=60,\n",
        "    top_p=1.0,\n",
        "    frequency_penalty=0.5,\n",
        "    presence_penalty=presence_penalty,\n",
        "    stop=[\"私:\"]\n",
        "  )\n",
        "  print(presence_penalty, response[\"choices\"][0][\"text\"])"
      ],
      "metadata": {
        "colab": {
          "base_uri": "https://localhost:8080/"
        },
        "id": "nZNHbQpx15dL",
        "outputId": "cf480f27-07a7-4192-a071-a31763d08236"
      },
      "execution_count": 33,
      "outputs": [
        {
          "output_type": "stream",
          "name": "stdout",
          "text": [
            "-2  勇気をくれてありがとう。\n",
            "-1.5  あなたが気合が入っていたから大丈夫だよ！\n",
            "-1  いえ、当然だよ！お互い頑張ろう！\n",
            "-0.5  いや、私は何もしてないよ！あなたが頑張ったんだからね！\n",
            "0  うん、自分の目標につながっているのはうれしいよ！\n",
            "0.5  いえ、君のおかげだよ！勇気をもらって頑張れたんだから\n",
            "1  全然大したことじゃないよ！\n",
            "1.5  嬉しい！やる気を保つためにも、お互い頑張りましょう！\n",
            "2  いや、あなたの努力のおかげだよ！\n"
          ]
        }
      ]
    },
    {
      "cell_type": "markdown",
      "source": [
        "±1.5以上の極端じゃなければわりと自然。0以上の人のほうが会話してて楽しそう"
      ],
      "metadata": {
        "id": "aul6j79I96kG"
      }
    },
    {
      "cell_type": "code",
      "source": [
        "presence_penalty_samples = [-2, -1.5, -1, -0.5, 0, 0.5, 1, 1.5, 2]\n",
        "for presence_penalty in presence_penalty_samples:\n",
        "  response = openai.Completion.create(\n",
        "    model=\"text-davinci-003\",\n",
        "    prompt=\"私: どんな映画が好き？私はハリーポッターみたいなファンタジー系が好きかな。\\n友達:\",\n",
        "    temperature=1,\n",
        "    max_tokens=60,\n",
        "    top_p=1.0,\n",
        "    frequency_penalty=0.5,\n",
        "    presence_penalty=presence_penalty,\n",
        "    stop=[\"私:\"]\n",
        "  )\n",
        "  print(presence_penalty, response[\"choices\"][0][\"text\"])"
      ],
      "metadata": {
        "colab": {
          "base_uri": "https://localhost:8080/"
        },
        "id": "UtS5SQDF7T7C",
        "outputId": "fe91454c-0ba7-4649-b422-85543594fb0c"
      },
      "execution_count": 34,
      "outputs": [
        {
          "output_type": "stream",
          "name": "stdout",
          "text": [
            "-2  私もファンタジー系が好きで、スターウォーズも好きです。ルーファスやザ・ウォーズ・オブ・ザ・リングも、『インフ\n",
            "-1.5  私もハリーポッターの映画は好きだよ！僕は、よりリアルな映画も好きなんだ。例えば、実\n",
            "-1  私はアクション系が好みですが、自分で行動するという設定がある映画はとても好きです。大\n",
            "-0.5  私もです！スターウォーズやマーベルなども好きですよ。\n",
            "0  私もハリーポッターが大好きです！ただ、アクション、スリラーなども好きです。\n",
            "0.5  私もハリーポッターが大好きです！私は面白いコメディ映画やサスペンスも好きです。\n",
            "1  私は現実の世界を描いた映画が好きです。例えば、ソーシャルメディアやインターネットに関するも\n",
            "1.5  そうなんだ！私もハリーポッターが大好きなんだよ。他にはアクション系とかスリラー映画も好きなの\n",
            "2  僕もファンタジー系が好きですよ！例えば、ライオンキングのようなアニメ映画なんかも面白い\n"
          ]
        }
      ]
    },
    {
      "cell_type": "markdown",
      "source": [
        "- 1以上はコメディーも推してきた。数うちゃあたる戦法か？\n",
        "- 友達だから肯定してくれるのは確定なのか？本当の友達は、、、\n",
        "- -2、2みたいな極端な値はやや表現が不自然な印象"
      ],
      "metadata": {
        "id": "hfvmJAJJ8o0u"
      }
    },
    {
      "cell_type": "markdown",
      "source": [
        "## frequency_penaltyをいろいろ変えて実行してみる"
      ],
      "metadata": {
        "id": "h9EMjQQ08MWa"
      }
    },
    {
      "cell_type": "code",
      "source": [
        "frequency_penalty_samples = [-2, -1.5, -1, -0.5, 0, 0.5, 1, 1.5, 2]\n",
        "for frequency_penalty in frequency_penalty_samples:\n",
        "  response = openai.Completion.create(\n",
        "    model=\"text-davinci-003\",\n",
        "    prompt=\"私: どんな映画が好き？私はハリーポッターみたいなファンタジー系が好きかな。\\n友達:\",\n",
        "    temperature=1,\n",
        "    max_tokens=60,\n",
        "    top_p=1.0,\n",
        "    frequency_penalty=frequency_penalty,\n",
        "    presence_penalty=0.0,\n",
        "    stop=[\"私:\"]\n",
        "  )\n",
        "  print(frequency_penalty, response[\"choices\"][0][\"text\"])"
      ],
      "metadata": {
        "colab": {
          "base_uri": "https://localhost:8080/"
        },
        "id": "qnbj8OAr7yJR",
        "outputId": "ebb7c6fc-11da-44b9-ed65-1a55a8e7ef15"
      },
      "execution_count": 26,
      "outputs": [
        {
          "output_type": "stream",
          "name": "stdout",
          "text": [
            "-2  うん！私もハリーポッターは大好きなんだ！私も私はダイアリー！スリー！！！！\n",
            "-1.5  映画もそうだけど、なぜそのジャンルがおおおおおおおおおおおおおおおおお\n",
            "-1  そうなんだ！私もスター・ウォーズみたいなスペースオペラ系が好きなんだ！\n",
            "-0.5  私も上記と同じくハリーポッターもすごく好きです。でも私もSFやサスペンスも好きです。\n",
            "0  うん、私もハリーポッターが大好き！大人の私にも全く新鮮な感覚だな。スターウォーズやマーベルも\n",
            "0.5  私もハリーポッターが大好きだよ。私はヒーロー系の映画も好き。アベンジャーズやバットマン、スパイダ\n",
            "1  うん、私もだよ！その他にサスペンスやコメディ映画も好きなんだ。ハリーポッターは子供と大人に\n",
            "1.5  私も同じように思います！他に映画を楽しむことは何でもいいです。アクション系、コメディー\n",
            "2  私もハリーポッターが好きで、サイコパスなどのミステリー系映画も面白いと思うよ。\n"
          ]
        }
      ]
    },
    {
      "cell_type": "markdown",
      "source": [
        "-1.5以下はかなりおかしなことに。無難に0か0.5にしておくのがよさそう"
      ],
      "metadata": {
        "id": "TyHcYWuL_akF"
      }
    },
    {
      "cell_type": "code",
      "source": [],
      "metadata": {
        "id": "cBkOgWbD_f-0"
      },
      "execution_count": null,
      "outputs": []
    }
  ]
}