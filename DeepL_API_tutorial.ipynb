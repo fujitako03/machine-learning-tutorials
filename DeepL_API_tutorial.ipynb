{
  "nbformat": 4,
  "nbformat_minor": 0,
  "metadata": {
    "colab": {
      "provenance": [],
      "authorship_tag": "ABX9TyMjwxQv9ekMG7x0fGoTZ1qs",
      "include_colab_link": true
    },
    "kernelspec": {
      "name": "python3",
      "display_name": "Python 3"
    },
    "language_info": {
      "name": "python"
    }
  },
  "cells": [
    {
      "cell_type": "markdown",
      "metadata": {
        "id": "view-in-github",
        "colab_type": "text"
      },
      "source": [
        "<a href=\"https://colab.research.google.com/github/fujitako03/machine-learning-tutorials/blob/main/DeepL_API_tutorial.ipynb\" target=\"_parent\"><img src=\"https://colab.research.google.com/assets/colab-badge.svg\" alt=\"Open In Colab\"/></a>"
      ]
    },
    {
      "cell_type": "markdown",
      "source": [
        "# DeepL API tutorial\n",
        "DeepLのAPIの機能を試してみたnotebookです。\n",
        "詳しい情報は公式の情報を参照ください\n",
        "- [DeepL API](https://www.deepl.com/ja/pro-api?cta=header-pro-api/)\n",
        "- [deepl-python(公式Pythonライブラリ)](https://github.com/DeepLcom/deepl-python)\n"
      ],
      "metadata": {
        "id": "EOvI7JQgxNjv"
      }
    },
    {
      "cell_type": "markdown",
      "source": [
        "## 準備\n",
        "### アカウント作成\n",
        "- DeepL APIのアカウントを作成する（23年1月2日現在無料で50万字まで使える）\n",
        "- アカウントページにある自分の認証キーに、下記セルの値を置き換える"
      ],
      "metadata": {
        "id": "ShJPmbMNzfRj"
      }
    },
    {
      "cell_type": "code",
      "execution_count": 9,
      "metadata": {
        "id": "YLB8dy6yxFAL"
      },
      "outputs": [],
      "source": [
        "class Config:\n",
        "  deepl_api_key=\" <認証キー>\""
      ]
    },
    {
      "cell_type": "markdown",
      "source": [
        "### インストール\n",
        "deepl-pythonをインストールする"
      ],
      "metadata": {
        "id": "2MgosMw00Xfa"
      }
    },
    {
      "cell_type": "code",
      "source": [
        "!pip install --upgrade deepl"
      ],
      "metadata": {
        "id": "kCIlmmy40f87"
      },
      "execution_count": null,
      "outputs": []
    },
    {
      "cell_type": "markdown",
      "source": [
        "## Hello world\n",
        "動くかどうか試してみる"
      ],
      "metadata": {
        "id": "g1FGVnQLzbaD"
      }
    },
    {
      "cell_type": "code",
      "source": [
        "import deepl\n",
        "\n",
        "translator = deepl.Translator(Config.deepl_api_key)\n",
        "\n",
        "result = translator.translate_text(\"Hello, world!\", source_lang=\"JA\", target_lang=\"EN\")\n",
        "print(result.text) "
      ],
      "metadata": {
        "colab": {
          "base_uri": "https://localhost:8080/"
        },
        "id": "D7nKJB35zUOy",
        "outputId": "e5280bf3-16c5-415f-ce12-d004ed20e3e2"
      },
      "execution_count": 10,
      "outputs": [
        {
          "output_type": "stream",
          "name": "stdout",
          "text": [
            "ハロー、ワールド\n"
          ]
        }
      ]
    },
    {
      "cell_type": "markdown",
      "source": [
        "## 利用制限までの文字数確認\n",
        "以下で確認可能です。"
      ],
      "metadata": {
        "id": "NIfb1kKs_bXW"
      }
    },
    {
      "cell_type": "code",
      "source": [
        "usage = translator.get_usage()\n",
        "if usage.any_limit_reached:\n",
        "    print('Translation limit reached.')\n",
        "if usage.character.valid:\n",
        "    print(\n",
        "        f\"Character usage: {usage.character.count} of {usage.character.limit}\")\n",
        "if usage.document.valid:\n",
        "    print(f\"Document usage: {usage.document.count} of {usage.document.limit}\")"
      ],
      "metadata": {
        "colab": {
          "base_uri": "https://localhost:8080/"
        },
        "id": "6vWPQ-Er_X2z",
        "outputId": "48ea2338-ea00-4c51-e8d2-576228b271fd"
      },
      "execution_count": 38,
      "outputs": [
        {
          "output_type": "stream",
          "name": "stdout",
          "text": [
            "Character usage: 7645 of 500000\n"
          ]
        }
      ]
    },
    {
      "cell_type": "markdown",
      "source": [
        "## パラメータを変えて実験\n",
        "### 言語\n",
        "5言語に翻訳して2.3秒なので、1回あたり0.4~0.5秒くらいでレスポンスを返してくれる。意味ないけど、同じ言語にも翻訳してくれるみたい。\n",
        "各言語が対応するパラメータは[APIドキュメント](https://www.deepl.com/docs-api/translate-text/?utm_source=github&utm_medium=github-python-readme)を参照"
      ],
      "metadata": {
        "id": "W8tU7fYK116x"
      }
    },
    {
      "cell_type": "code",
      "source": [
        "%%time\n",
        "input_text = \"諦めたらそこで試合終了ですよ\"\n",
        "source_lang = \"JA\"\n",
        "target_langs = [\"JA\", \"EN-US\", \"FR\", \"ZH\", \"NL\"]\n",
        "\n",
        "for target_lang in target_langs:\n",
        "  result = translator.translate_text(\n",
        "      text=input_text,\n",
        "      source_lang=source_lang,\n",
        "      target_lang=target_lang)\n",
        "  print(target_lang, result.text) "
      ],
      "metadata": {
        "colab": {
          "base_uri": "https://localhost:8080/"
        },
        "id": "9jc0bYn73pnt",
        "outputId": "0423d83f-534b-4845-fe4c-c2748796c596"
      },
      "execution_count": 21,
      "outputs": [
        {
          "output_type": "stream",
          "name": "stdout",
          "text": [
            "JA 諦めたらそこで試合終了ですよ\n",
            "EN-US If you give up, that's where the game ends.\n",
            "FR Si tu abandonnes, c'est là que le jeu s'arrête.\n",
            "ZH 如果你放弃了，这就是游戏的结束。\n",
            "NL Als je opgeeft, eindigt het spel.\n",
            "CPU times: user 45.5 ms, sys: 3.97 ms, total: 49.5 ms\n",
            "Wall time: 2.3 s\n"
          ]
        }
      ]
    },
    {
      "cell_type": "code",
      "source": [
        "input_text = \"\"\"むかし、むかし、あるところに、おじいさんとおばあさんがありました。まいにち、おじいさんは山へしば刈かりに、おばあさんは川へ洗濯せんたくに行きました。\n",
        "　ある日、おばあさんが、川のそばで、せっせと洗濯せんたくをしていますと、川上かわかみから、大きな桃ももが一つ、\n",
        "「ドンブラコッコ、スッコッコ。\n",
        "ドンブラコッコ、スッコッコ。」\n",
        "　と流ながれて来きました。\n",
        "「おやおや、これはみごとな桃ももだこと。おじいさんへのおみやげに、どれどれ、うちへ持もって帰かえりましょう。」\n",
        "　おばあさんは、そう言いいながら、腰こしをかがめて桃ももを取とろうとしましたが、遠とおくって手がとどきません。おばあさんはそこで、\n",
        "「あっちの水みいずは、かあらいぞ。\n",
        "こっちの水みいずは、ああまいぞ。\n",
        "かあらい水みいずは、よけて来こい。\n",
        "ああまい水みいずに、よって来こい。\n",
        "　と歌うたいながら、手をたたきました。すると桃ももはまた、\n",
        "「ドンブラコッコ、スッコッコ。\n",
        "ドンブラコッコ、スッコッコ。」\n",
        "　といいながら、おばあさんの前まえへ流ながれて来きました。おばあさんはにこにこしながら、\n",
        "「早はやくおじいさんと二人ふたりで分わけて食たべましょう。」\n",
        "　と言いって、桃ももをひろい上あげて、洗濯物せんたくものといっしょにたらいの中に入いれて、えっちら、おっちら、かかえておうちへ帰かえりました。\n",
        "　夕方ゆうがたになってやっと、おじいさんは山からしばを背負せおって帰かえって来きました。\n",
        "「おばあさん、今いま帰かえったよ。」\n",
        "「おや、おじいさん、おかいんなさい。待まっていましたよ。さあ、早はやくお上あがんなさい。いいものを上あげますから。」\n",
        "「それはありがたいな。何なんだね、そのいいものというのは。」\n",
        "　こういいながら、おじいさんはわらじをぬいで、上に上あがりました。その間まに、おばあさんは戸棚とだなの中からさっきの桃ももを重おもそうにかかえて来きて、\n",
        "「ほら、ごらんなさいこの桃ももを。」\n",
        "　と言いいました。\n",
        "「ほほう、これはこれは。どこからこんなみごとな桃ももを買かって来きた。」\n",
        "「いいえ、買かって来きたのではありません。今日きょう川で拾ひろって来きたのですよ。」\n",
        "「え、なに、川で拾ひろって来きた。それはいよいよめずらしい。」\n",
        "　こうおじいさんは言いいながら、桃ももを両手りょうてにのせて、ためつ、すがめつ、ながめていますと、だしぬけに、桃ももはぽんと中から二つに割われて、\n",
        "「おぎゃあ、おぎゃあ。」\n",
        "　と勇いさましいうぶ声こえを上あげながら、かわいらしい赤あかさんが元気げんきよくとび出だしました。\n",
        "「おやおや、まあ。」\n",
        "　おじいさんも、おばあさんも、びっくりして、二人ふたりいっしょに声こえを立たてました。\n",
        "「まあまあ、わたしたちが、へいぜい、どうかして子供こどもが一人ひとりほしい、ほしいと言いっていたものだから、きっと神かみさまがこの子をさずけて下くださったにちがいない。」\n",
        "　おじいさんも、おばあさんも、うれしがって、こう言いいました。\n",
        "　そこであわてておじいさんがお湯ゆをわかすやら、おばあさんがむつきをそろえるやら、大おおさわぎをして、赤あかさんを抱だき上あげて、うぶ湯ゆをつかわせました。するといきなり、\n",
        "「うん。」\n",
        "　と言いいながら、赤あかさんは抱だいているおばあさんの手をはねのけました。\n",
        "「おやおや、何なんという元気げんきのいい子だろう。」\n",
        "　おじいさんとおばあさんは、こう言いって顔かおを見合みあわせながら、「あッは、あッは。」とおもしろそうに笑わらいました。\n",
        "　そして桃ももの中から生うまれた子だというので、この子に桃太郎ももたろうという名なをつけました。\n",
        "\n",
        "二\n",
        "\n",
        "　おじいさんとおばあさんは、それはそれはだいじにして桃太郎ももたろうを育そだてました。桃太郎ももたろうはだんだん成長せいちょうするにつれて、あたりまえの子供こどもにくらべては、ずっと体からだも大きいし、力ちからがばかに強つよくって、すもうをとっても近所きんじょの村むらじゅうで、かなうものは一人ひとりもないくらいでしたが、そのくせ気きだてはごくやさしくって、おじいさんとおばあさんによく孝行こうこうをしました。\n",
        "　桃太郎ももたろうは十五になりました。\n",
        "　もうそのじぶんには、日本にほんの国中くにじゅうで、桃太郎ももたろうほど強つよいものはないようになりました。桃太郎ももたろうはどこか外国がいこくへ出かけて、腕うでいっぱい、力ちからだめしをしてみたくなりました。\n",
        "　するとそのころ、ほうぼう外国がいこくの島々しまじまをめぐって帰かえって来きた人があって、いろいろめずらしい、ふしぎなお話はなしをした末すえに、\n",
        "「もう何年なんねんも何年なんねんも船ふねをこいで行くと、遠とおい遠とおい海うみのはてに、鬼おにが島しまという所ところがある。悪わるい鬼おにどもが、いかめしいくろがねのお城しろの中に住すんで、ほうぼうの国くにからかすめ取とった貴とうとい宝物たからものを守まもっている。」\n",
        "　と言いいました。\n",
        "　桃太郎ももたろうはこの話はなしをきくと、その鬼おにが島しまへ行ってみたくって、もう居いても立たってもいられなくなりました。そこでうちへ帰かえるとさっそく、おじいさんの前まえへ出て、\n",
        "「どうぞ、わたくしにしばらくおひまを下ください。」\n",
        "　と言いいました。\n",
        "　おじいさんはびっくりして、\n",
        "「お前まえどこへ行くのだ。」\n",
        "　と聞ききました。\n",
        "「鬼おにが島しまへ鬼おにせいばつに行こうと思おもいます。」\n",
        "　と桃太郎ももたろうはこたえました。\n",
        "「ほう、それはいさましいことだ。じゃあ行っておいで。」\n",
        "　とおじいさんは言いいました。\n",
        "「まあ、そんな遠方えんぽうへ行くのでは、さぞおなかがおすきだろう。よしよし、おべんとうをこしらえて上あげましょう。」\n",
        "　とおばあさんも言いいました。\n",
        "　そこで、おじいさんとおばあさんは、お庭にわのまん中に、えんやら、えんやら、大きな臼うすを持もち出だして、おじいさんがきねを取とると、おばあさんはこねどりをして、\n",
        "「ぺんたらこっこ、ぺんたらこっこ。ぺんたらこっこ、ぺんたらこっこ。」\n",
        "　と、おべんとうのきびだんごをつきはじめました。\n",
        "　きびだんごがうまそうにでき上あがると、桃太郎ももたろうのしたくもすっかりでき上あがりました。\n",
        "　桃太郎ももたろうはお侍さむらいの着きるような陣羽織じんばおりを着きて、刀かたなを腰こしにさして、きびだんごの袋ふくろをぶら下さげました。そして桃ももの絵えのかいてある軍扇ぐんせんを手に持もって、\n",
        "「ではおとうさん、おかあさん、行ってまいります。」\n",
        "　と言いって、ていねいに頭あたまを下さげました。\n",
        "「じゃあ、りっぱに鬼おにを退治たいじしてくるがいい。」\n",
        "　とおじいさんは言いいました。\n",
        "「気きをつけて、けがをしないようにおしよ。」\n",
        "　とおばあさんも言いいました。\n",
        "「なに、大丈夫だいじょうぶです、日本一にっぽんいちのきびだんごを持もっているから。」と桃太郎ももたろうは言いって、\n",
        "「では、ごきげんよう。」\n",
        "　と元気げんきな声こえをのこして、出でていきました。おじいさんとおばあさんは、門もんの外そとに立たって、いつまでも、いつまでも見送みおくっていました。\n",
        "\n",
        "三\n",
        "\n",
        "　桃太郎ももたろうはずんずん行きますと、大きな山の上に来きました。すると、草くさむらの中から、「ワン、ワン。」と声こえをかけながら、犬いぬが一ぴきかけて来きました。\n",
        "　桃太郎ももたろうがふり返かえると、犬いぬはていねいに、おじぎをして、\n",
        "「桃太郎ももたろうさん、桃太郎ももたろうさん、どちらへおいでになります。」\n",
        "　とたずねました。\n",
        "「鬼おにが島しまへ、鬼おにせいばつに行くのだ。」\n",
        "「お腰こしに下さげたものは、何なんでございます。」\n",
        "「日本にっぽん一のきびだんごさ。」\n",
        "「一つ下ください、お供ともしましょう。」\n",
        "「よし、よし、やるから、ついて来こい。」\n",
        "　犬いぬはきびだんごを一つもらって、桃太郎ももたろうのあとから、ついて行きました。\n",
        "　山を下おりてしばらく行いくと、こんどは森もりの中にはいりました。すると木の上から、「キャッ、キャッ。」とさけびながら、猿さるが一ぴき、かけ下おりて来きました。\n",
        "　桃太郎ももたろうがふり返かえると、猿さるはていねいに、おじぎをして、\n",
        "「桃太郎ももたろうさん、桃太郎ももたろうさん、どちらへおいでになります。」\n",
        "　とたずねました。\n",
        "「鬼おにが島しまへ鬼おにせいばつに行くのだ。」\n",
        "「お腰こしに下さげたものは、何なんでございます。」\n",
        "「日本にっぽん一のきびだんごさ。」\n",
        "「一つ下ください、お供ともしましょう。」\n",
        "「よし、よし、やるから、ついて来こい。」\n",
        "　猿さるもきびだんごを一つもらって、あとからついて行きました。\n",
        "　山を下おりて、森もりをぬけて、こんどはひろい野原のはらへ出ました。すると空そらの上で、「ケン、ケン。」と鳴なく声こえがして、きじが一羽わとんで来きました。\n",
        "　桃太郎ももたろうがふり返かえると、きじはていねいに、おじぎをして、\n",
        "「桃太郎ももたろうさん、桃太郎ももたろうさん、どちらへおいでになります。」\n",
        "　とたずねました。\n",
        "「鬼おにが島しまへ鬼おにせいばつに行くのだ。」\n",
        "「お腰こしに下さげたものは、何なんでございます。」\n",
        "「日本一にっぽんいちのきびだんごさ。」\n",
        "「一つ下ください、お供ともしましょう。」\n",
        "「よし、よし、やるから、ついて来こい。」\n",
        "　きじもきびだんごを一つもらって、桃太郎ももたろうのあとからついて行きました。\n",
        "　犬いぬと、猿さると、きじと、これで三にんまで、いい家来けらいができたので、桃太郎ももたろうはいよいよ勇いさみ立たって、またずんずん進すすんで行きますと、やがてひろい海うみばたに出ました。\n",
        "　そこには、ちょうどいいぐあいに、船ふねが一そうつないでありました。\n",
        "　桃太郎ももたろうと、三にんの家来けらいは、さっそく、この船ふねに乗のり込こみました。\n",
        "「わたくしは、漕こぎ手てになりましょう。」\n",
        "　こう言いって、犬いぬは船ふねをこぎ出だしました。\n",
        "「わたくしは、かじ取とりになりましょう。」\n",
        "　こう言いって、猿さるがかじに座すわりました。\n",
        "「わたくしは物見ものみをつとめましょう。」\n",
        "　こう言いって、きじがへさきに立たちました。\n",
        "　うららかないいお天気てんきで、まっ青さおな海うみの上には、波なみ一つ立たちませんでした。稲妻いなづまが走はしるようだといおうか、矢やを射いるようだといおうか、目のまわるような速はやさで船ふねは走って行きました。ほんの一時間じかんも走はしったと思おもうころ、へさきに立たって向むこうをながめていたきじが、「あれ、あれ、島しまが。」とさけびながら、ぱたぱたと高たかい羽音はおとをさせて、空そらにとび上あがったと思おもうと、スウッとまっすぐに風かぜを切きって、飛とんでいきました。\n",
        "　桃太郎ももたろうもすぐきじの立たったあとから向むこうを見みますと、なるほど、遠とおい遠とおい海うみのはてに、ぼんやり雲くものような薄うすぐろいものが見みえました。船ふねの進すすむにしたがって、雲くものように見みえていたものが、だんだんはっきりと島しまの形かたちになって、あらわれてきました。\n",
        "「ああ、見みえる、見みえる、鬼おにが島しまが見みえる。」\n",
        "　桃太郎ももたろうがこういうと、犬いぬも、猿さるも、声こえをそろえて、「万歳ばんざい、万歳ばんざい。」とさけびました。\n",
        "　見みる見みる鬼おにが島しまが近ちかくなって、もう硬かたい岩いわで畳たたんだ鬼おにのお城しろが見みえました。いかめしいくろがねの門もんの前まえに見みはりをしている鬼おにの兵隊へいたいのすがたも見みえました。\n",
        "そのお城しろのいちばん高たかい屋根やねの上に、きじがとまって、こちらを見みていました。\n",
        "こうして何年なんねんも、何年なんねんもこいで行いかなければならないという鬼おにが島しまへ、ほんの目をつぶっている間まに来きたのです。\n",
        "\n",
        "四\n",
        "\n",
        "　桃太郎ももたろうは、犬いぬと猿さるをしたがえて、船ふねからひらりと陸おかの上にとび上あがりました。\n",
        "　見みはりをしていた鬼おにの兵隊へいたいは、その見みなれないすがたを見みると、びっくりして、あわてて門もんの中に逃にげ込こんで、くろがねの門もんを固かたくしめてしまいました。その時とき犬いぬは門もんの前まえに立たって、\n",
        "「日本にほんの桃太郎ももたろうさんが、お前まえたちをせいばいにおいでになったのだぞ。あけろ、あけろ。」\n",
        "　とどなりながら、ドン、ドン、扉とびらをたたきました。鬼おにはその声こえを聞きくと、ふるえ上あがって、よけい一生懸命いっしょうけんめいに、中から押おさえていました。\n",
        "　するときじが屋根やねの上からとび下おりてきて、門もんを押おさえている鬼おにどもの目をつつきまわりましたから、鬼おにはへいこうして逃にげ出だしました。その間まに、猿さるがするすると高たかい岩壁いわかべをよじ登のぼっていって、ぞうさなく門もんを中からあけました。\n",
        "「わあッ。」とときの声こえを上あげて、桃太郎ももたろうの主従しゅじゅうが、いさましくお城しろの中に攻せめ込こんでいきますと、鬼おにの大将たいしょうも大おおぜいの家来けらいを引ひき連つれて、一人一人ひとりひとり、太ふとい鉄てつの棒ぼうをふりまわしながら、「おう、おう。」とさけんで、向むかってきました。\n",
        "　けれども、体からだが大きいばっかりで、いくじのない鬼おにどもは、さんざんきじに目をつつかれた上に、こんどは犬いぬに向むこうずねをくいつかれたといっては、痛いたい、痛いたいと逃にげまわり、猿さるに顔かおを引ひっかかれたといっては、おいおい泣なき出だして、鉄てつの棒ぼうも何なにもほうり出だして、降参こうさんしてしまいました。\n",
        "　おしまいまでがまんして、たたかっていた鬼おにの大将たいしょうも、とうとう桃太郎ももたろうに組くみふせられてしまいました。桃太郎ももたろうは大きな鬼おにの背中せなかに、馬乗うまのりにまたがって、\n",
        "「どうだ、これでも降参こうさんしないか。」\n",
        "　といって、ぎゅうぎゅう、ぎゅうぎゅう、押おさえつけました。\n",
        "　鬼おにの大将たいしょうは、桃太郎ももたろうの大力だいりきで首くびをしめられて、もう苦くるしくってたまりませんから、大おおつぶの涙なみだをぼろぼろこぼしながら、\n",
        "「降参こうさんします、降参こうさんします。命いのちだけはお助たすけ下ください。その代かわりに宝物たからものをのこらずさし上あげます。」\n",
        "　こう言いって、ゆるしてもらいました。\n",
        "　鬼おにの大将たいしょうは約束やくそくのとおり、お城しろから、かくれみのに、かくれ笠がさ、うちでの小こづちに如意宝珠にょいほうじゅ、そのほかさんごだの、たいまいだの、るりだの、世界せかいでいちばん貴とうとい宝物たからものを山のように車くるまに積つんで出だしました。\n",
        "　桃太郎ももたろうはたくさんの宝物たからものをのこらず積つんで、三にんの家来けらいといっしょに、また船ふねに乗のりました。帰かえりは行きよりもまた一そう船ふねの走はしるのが速はやくって、間まもなく日本にほんの国くにに着つきました。\n",
        "　船ふねが陸おかに着つきますと、宝物たからものをいっぱい積つんだ車くるまを、犬いぬが先さきに立たって引ひき出だしました。きじが綱つなを引ひいて、猿さるがあとを押おしました。\n",
        "「えんやらさ、えんやらさ。」\n",
        "　三にんは重おもそうに、かけ声ごえをかけかけ進すすんでいきました。\n",
        "　うちではおじいさんと、おばあさんが、かわるがわる、\n",
        "「もう桃太郎ももたろうが帰かえりそうなものだが。」\n",
        "　と言いい言いい、首くびをのばして待まっていました。そこへ桃太郎ももたろうが三にんのりっぱな家来けらいに、ぶんどりの宝物たからものを引ひかせて、さもとくいらしい様子ようすをして帰かえって来きましたので、おじいさんもおばあさんも、目も鼻はなもなくして喜よろこびました。\n",
        "「えらいぞ、えらいぞ、それこそ日本一にっぽんいちだ。」\n",
        "　とおじいさんは言いいました。\n",
        "「まあ、まあ、けががなくって、何なによりさ。」\n",
        "　とおばあさんは言いいました。\n",
        "　桃太郎ももたろうは、その時とき犬いぬと猿さるときじの方ほうを向むいてこう言いいました。\n",
        "「どうだ。鬼おにせいばつはおもしろかったなあ。」\n",
        "　犬いぬはワン、ワンとうれしそうにほえながら、前足まえあしで立たちました。\n",
        "　猿さるはキャッ、キャッと笑わらいながら、白しろい歯はをむき出だしました。\n",
        "　きじはケン、ケンと鳴なきながら、くるくると宙返ちゅうがえりをしました。\n",
        "　空そらは青々あおあおと晴はれ上あがって、お庭にわには桜さくらの花はなが咲さき乱みだれていました。\n",
        "\"\"\""
      ],
      "metadata": {
        "id": "yq0ZFiKg6H27"
      },
      "execution_count": 22,
      "outputs": []
    },
    {
      "cell_type": "markdown",
      "source": [
        "### 長い文章を入力してみる\n",
        "青空文庫の桃太郎をそのまま入力してみたが、4.4秒で結果が返ってきた。技術的にはすごいと思うが、ブラウジングしていて4.4秒はどうしても長く感じてしまうので、長い文章を扱う際には工夫が必要そう。\n",
        "\n"
      ],
      "metadata": {
        "id": "3-CNDllf6Urh"
      }
    },
    {
      "cell_type": "code",
      "source": [
        "%%time\n",
        "source_lang = \"JA\"\n",
        "target_lang = \"EN-US\"\n",
        "\n",
        "result = translator.translate_text(\n",
        "    text=input_text,\n",
        "    source_lang=source_lang,\n",
        "    target_lang=target_lang)\n",
        "print(target_lang, result.text) "
      ],
      "metadata": {
        "colab": {
          "base_uri": "https://localhost:8080/"
        },
        "id": "mNaCHwKD5wtz",
        "outputId": "3fdb2d6b-b5ed-4d69-a98e-825a7d2f15c6"
      },
      "execution_count": 23,
      "outputs": [
        {
          "output_type": "stream",
          "name": "stdout",
          "text": [
            "EN-US Once upon a time, there was an old man and an old woman. Once upon a time, there was a man and a woman. Everyday, the old man went to the mountains to cut grass, and the woman went to the river to wash her clothes.\n",
            "　One day, while the grandmother was diligently washing clothes by the river, a large peach blossom appeared from the riverbank above the river.\n",
            "She saw one big peach and said, \"Domburakotko, sukkotko.\n",
            "Domburakotsu, sukkotsu, sukkotsu.\n",
            "　\"Oh, well, this is a peach.\n",
            "\"Well, well, well, this is a beautiful peach peach. Let's take some home as a gift for your grandfather.\n",
            "　The old woman bent down to pick up the peach, but it was too far away to reach. The old woman then said\n",
            "The water map over there is too big.\n",
            "The water over here is too sweet.\n",
            "Go away from the bad water.\n",
            "Come on, come to the sweet water.\n",
            "　They clapped their hands while singing. Then, the peaches and turtles started clapping their hands again.\n",
            "Domburakotsu, sukkotsu, sukkotsu.\n",
            "Don braccocco, succocco, succocco.\n",
            "　and they came streaming to the grandmother's doorstep. Granny smiled and said, \"Hurry up, Grandpa!\n",
            "She said, \"Let's share the peaches with your grandfather and eat them together as soon as possible.\n",
            "　She picked up the peaches, put them in the wash tub with the laundry, and carried them back home.\n",
            "　Finally, late in the evening, Grandpa came back from the mountain carrying a brush on his back.\n",
            "Grandfather, I just came home.\n",
            "Grandfather, welcome home. We've been waiting for you. Come on, hurry up and come back. I'll bring you something good.\n",
            "\"That's very kind of you. What is this good thing?\n",
            "　With these words, the old man put on his straw sandals and climbed up. In the meantime, the old woman came out of the cupboard and cabinet, carrying the peach peach that she had just brought in, and said to the old man, \"Look, look at this peach.\n",
            "Look,\" she said, \"look at these peaches.\n",
            "　Look at these peaches.\n",
            "Look at this peach. Where did you come from to buy such a magnificent peach?\n",
            "No, I did not buy them. I picked them up from the river today.\n",
            "\"Yes, what, I picked them up in the river today. That's very unusual.\n",
            "　Then, out of the blue, the peach was split in two, and the old man said, \"Oh, my goodness, what a surprise!\n",
            "Then, without warning, the peach was split in two from the inside, and the peaches let out a loud, courageous cry of \"ogya, ogya!\n",
            "　A cute little redhead jumped out of the peach with a loud and lively cry of \"ogya, ogya!\n",
            "Oh, dear, oh, dear!\n",
            "　Grandpa and grandma were so surprised that they both stood up together and shouted, \"Oh, my goodness!\n",
            "We have been begging for a child for so long that God must have given this child to us.\n",
            "　Both the grandfather and the grandmother were delighted and said, \"I am sure that God must have given us this child.\n",
            "　Then, in a panic, the grandfather boiled the hot water and the grandmother arranged the muumuu, and made a great commotion. Then, all of a sudden, he said\n",
            "Yes.\n",
            "　The baby grandmother suddenly flung off the hand of the grandmother who was holding her.\n",
            "The old man and the grandmother said to each other, \"Well, well, well, well, well.\n",
            "　Grandpa and grandma looked at each other and said, \"Ha-ha-ha-ha! They laughed amusingly.\n",
            "　They named him Momotaro Momotaro, because he was born out of a peach.\n",
            "\n",
            "II.\n",
            "\n",
            "　Grandpa and grandma took good care of Momotaro Momotaro. Momotaro Momotaro gradually grew up to be much bigger and stronger than ordinary children, and even when he played sumo, there was no one who could match him in the whole neighborhood. But he was very kind and treated his grandfather and grandmother with great filial piety.\n",
            "　Momotaro Momotaro is now 15 years old.\n",
            "　By that time, there was no one in all of Japan as strong as Momotaro Momotaro. Momotaro Momotaro wanted to go to a foreign country and test his strength with all his might.\n",
            "　Then, around that time, someone came back from visiting the islands of foreign lands, and after telling him many unusual and mysterious stories, he said to Momotaro, \"How many years has it been since you came back from the islands?\n",
            "After telling him many strange and mysterious stories, he said, \"After rowing my boat for many, many years, I came to a place called Oni Oni ga Shima at the end of the far, far, far ocean. There, in the middle of the sea, far, far out to sea, there is a place called Onii-no-shima-jima, where wicked ogres live in a hideous, blackened castle and guard the precious treasures they have seized from the land of the wild.\n",
            "　Momotaro said.\n",
            "　When Momotaro heard this story, he wanted to go to the island of the ogre demon, but he could not stay there any longer. So, as soon as he returned home, he went in front of his grandfather and said, \"Please, let me stay with you for a while.\n",
            "Please give me some time to myself.\n",
            "　Please give me some time to myself.\n",
            "　The grandfather was astonished.\n",
            "Where are you going?\n",
            "　The grandfather was astonished and asked, \"Where are you going?\n",
            "I am thinking of going to the devil's island to do his punishment,\" said Momotaro.\n",
            "　Momotaro replied.\n",
            "\"Well, that's a very imprudent thing to do. Well, go on then.\n",
            "　Then go ahead,\" said his grandfather.\n",
            "Well, you must be very hungry if you have to go so far away from home,\" said Grandpa. All right, I'll prepare a lunch for you.\n",
            "　And the grandmother said, \"Well, you must be very hungry to go to such a faraway place.\n",
            "　So Grandpa and Grandma brought out a large mortar and pestle in the middle of the yard.\n",
            "Then the old man took the wheel, and the old woman began to knead the rice, and said, \"Pentara-kokko, pentara-kokko. And the old man took the rice husks, and the grandmother began to make the rice cake.\n",
            "　And then she started to make kibidango for lunch.\n",
            "　When the kibidango looked delicious, Momotaro and Momotaro's clothes were also ready.\n",
            "　Momotaro put on a jinbaori, which is a kind of coat worn by samurai warriors, and put his sword on his waist, and hung a bag of kibidango from it. Then, holding a military fan with a picture of a peach in it, he said to his father and mother, \"Well, then, father and mother, let's go.\n",
            "Then, holding a military fan with a picture of a peach and a peach in it, he said, \"Well, father and mother, I'm going away.\n",
            "　Then he bowed his head carefully.\n",
            "Then, go and exterminate the devil,\" Grandpa said.\n",
            "　Then, go and exterminate the devil,\" said the old man.\n",
            "Be careful and don't get hurt.\n",
            "　Grandma said, \"Don't hurt yourself.\n",
            "We have the best millet dumplings in Japan,\" Momotaro said. Momotaro said.\n",
            "Then, good day to you!\n",
            "　Momotaro then said, \"Well, good day to you,\" and went out. Grandfather and grandmother stood outside the gate and watched him for a long, long time.\n",
            "\n",
            "Three.\n",
            "\n",
            "　Momotaro went on and on, until he came to the top of a big mountain. Then, from the grassy knoll, he heard a voice saying, \"Woof, woof! A dog-canine came running toward Momotaro, calling out \"Woof, woof!\n",
            "　When Momotaro turned around, the dog bowed to him in a polite manner and said, \"Momotaro, Momotaro-san!\n",
            "Momotaro Momotaro, Momotaro Momotaro, where are you going?\n",
            "　Momotaro, Momotaro, Momotaro, Momotaro, Momotaro, Momotaro, Momotaro.\n",
            "\"We are going to the devil's island, to the devil's punishment.\n",
            "What is that thing you put on your waist?\n",
            "\"Japan's best kibidango.\"\n",
            "Take one down, and I'll accompany you.\n",
            "All right, all right, all right. Come along.\n",
            "　Inu Inu got one kibidango and followed Momotaro and Momotaro.\n",
            "　After descending the mountain for a while, they entered a forest. Then, from the top of a tree, a monkey and a monkey-sarugaku came screaming, \"Cackle, cackle! A monkey and a monkey came running down from the top of a tree, shouting, \"Cackle, cackle!\n",
            "　Momotaro turned around and saw a monkey and a monkey bowing to him.\n",
            "Momotaro, Momotaro, Momotaro, where are you going?\n",
            "　Momotaro, Momotaro, Momotaro, Momotaro, Momotaro, Momotaro, Momotaro.\n",
            "\"Oni Oni ga Shima shima ni Oni ni Seibatsu ni (Oni Oni goes to the Island of the Devil).\"\n",
            "What is that thing you put on your waist?\n",
            "\"Japan's best kibidango.\"\n",
            "Take one down, and I'll accompany you.\n",
            "All right, all right, all right, all right. Come along.\n",
            "　Sarusaru also received one of the kibidanban, and followed him.\n",
            "　They went down the mountain, through the forest, and out into the open field. Then, over the open sky, they heard a voice saying, \"Ken, Ken! A fox flew down from the sky.\n",
            "　When Momotaro turned around, the kijiji bowed politely and said, \"Momotaro, Momotaro-san!\n",
            "Momotaro Momotaro, Momotaro Momotaro, where are you going?\n",
            "　Momotaro, Momotaro, Momotaro, Momotaro, Momotaro, Momotaro, Momotaro.\n",
            "He said, \"Oni Oni ga Shima shima ni Oni ni Seibatsu.\n",
            "What is that thing you put on your waist?\n",
            "\"Japan's best kibidango, the best in Japan.\"\n",
            "Give me one down, and I'll accompany you.\n",
            "All right, all right, I'll do it.\n",
            "　Kiji got one of the millet dumplings, too, and Momotaro followed him.\n",
            "　Momotaro, now that he had a dog, a monkey, a monkey, and a fox as his three good retainers, stood up in high spirits and marched onward again.\n",
            "　There, they came upon a wide ocean beach, and just in time, a boat was connected to the beach.\n",
            "　Momotaro, Momotaro, and their three retainers, the kerai, immediately boarded the boat.\n",
            "Momotaro, Momotaro and his three retainers, Keirai, quickly boarded the boat and boarded the boat.\n",
            "　With these words, Inu-Inu started to paddle the boat.\n",
            "I will be the nibbler.\n",
            "　And the monkey sat down on the iron.\n",
            "\"I will be a gazebo.\n",
            "　With these words, the pheasant stood up at the edge of the clearing.\n",
            "　It was a beautiful sunny day, and not a single wave could be seen on the blue ocean. The boat was moving at a dizzying speed, as if a lightning bolt were streaking by or an arrow were shooting through the sky. After what seemed like only an hour, a pheasant standing at the front of the boat, looking out across the water, exclaimed, \"Look, look, the islands! Then it flew straight up into the sky, cutting through the wind and wind.\n",
            "　Momotaro and Momotaro looked out from where the whale had just landed and saw something faint and cloud-like at the far end of the distant ocean. As the ship advanced, what had appeared to be a cloud cloud-like cloud gradually took on the shape of an island.\n",
            "\"Ah, I can see it, I can see it, I can see it, the devil devil can see the islands!\"\n",
            "　Momotaro said, and the dog, dog, monkey, and monkey all shouted in unison, \"Banzai banzai, banzai banzai! They shouted in unison, \"Banzai banzai, banzai banzai!\n",
            "　The island of the devil devil got closer and closer, and the devil's castle, which had been folded up with hard rocks, could be seen. I could also see the devil's army of soldiers standing guard in front of the imposing iron gate.\n",
            "On top of the tallest roof of the castle, a kijiji perched on top of the roof and looked out at us.\n",
            "Thus, the devil devil came to the island island, where he would have to travel for many, many years, while he kept his eyes closed.\n",
            "\n",
            "Four.\n",
            "\n",
            "　Momotaro, accompanied by his dog Inu (a dog) and monkey (a monkey), jumped from the ship's hull onto the land.\n",
            "　When the devil soldiers, who were standing guard, saw their strange appearance, they were so startled that they rushed into the gate and tightly fastened it. At that moment, the dog stood in front of the gate and said\n",
            "Momotaro, Momotaro, the little Momotaro of Japan, has come to vindicate you. Open up, open up!\n",
            "　He banged on the door with a bang, bang, bang. When the demon demon heard the voice, he started to tremble, and tried even harder to hold it down from the inside.\n",
            "　Then, a kijiji jumped down from the top of the roof and poked at the eyes of the ogres holding back the gate, causing the ogres to flee. In the meantime, Sarusaru scrambled up the high rock wall and opened the gate from the inside without any difficulty.\n",
            "\"Wow! Momotaro's chief servant, Momotaro, rushed into the castle, and the demon chief, Taisho, led his many retainers, one by one, waving their thick iron clubs, shouting \"Oooh, oooh! They were all large in stature.\n",
            "　But the demon devils, who were all big and helpless, had been poked in the eyes by a fox many times, and when a dog bit them on the back of the neck, they ran away crying out in pain, and when a monkey scratched them on the face, they cried out and threw away the iron bars and everything else. They cried out and threw out their iron sticks and everything else, and gave up.\n",
            "　Momotaro Momotaro, who had been fighting with the demon chief Taisho until the end, was finally overcome by Momotaro Momotaro. Momotaro, straddling his horse on the back of the big ogre, said to the ogre, \"How do you like it?\n",
            "Momotaro straddled his horse, Umanori, on the back of the big ogre, and said, \"How about it, will you still surrender to me?\n",
            "　and he squeezed him down hard and fast.\n",
            "　Taisho, the chief demon king, was so distressed by Momotaro Momotaro's mighty strength that he could hardly stand the pain of being strangled.\n",
            "I surrender, I surrender, I surrender. Please spare my life. In exchange, I will give you all my treasures.\n",
            "　With these words, they were forgiven.\n",
            "　As promised, the demon chief Taisho set out from the castle grounds in his car with a mountain of treasures, including a hidden purse, a hidden hat, an Uchiuchi no Kozuchi, a Nyoi Bouzu, and the most precious treasures in the world, such as sangos, taimai, and ruris (a kind of gem). Momotaro and Momotaro went out in a car with a mountain of treasures.\n",
            "　Momotaro loaded up all his treasures and boarded the boat again with his three retainers. On the return trip, the boat traveled even faster than on the way there, and soon they arrived in Japan, the only country in the world.\n",
            "　As soon as the boats arrived on land, a dog dog stood up first and pulled out a car full of treasures. The pheasant pulled the rope, and the monkey and monkey followed in his wake.\n",
            "The three of them looked so heavy.\n",
            "　The three of them chanted in a heavy voice as they went on their way.\n",
            "　At home, the grandfather and the grandmother were taking turns.\n",
            "Momotaro and Momotaro are already on their way home, aren't they?\n",
            "　Momotaro and Momotaro were waiting for them with their heads held high. Then Momotaro and Momotaro came back with three powerful retainers, pulling a treasure trove of goods and looking very happy.\n",
            "He is the best in Japan, the best in all of Japan!\n",
            "　The old man said, \"Well, well, well.\n",
            "I'm so glad you're not hurt,\" Grandma said.\n",
            "　said the old lady.\n",
            "　Momotaro Momotaro then turned to the dog, monkey, monkey, and pheasant and said, \"How are they?\n",
            "What do you think? The Oni Oni seibatsu was interesting, wasn't it?\"\n",
            "　The dog and dog stood up on their paws, barking happily.\n",
            "　The monkey and monkey were laughing and bared their white teeth.\n",
            "　The pheasant, with a ken-ken sound, spun around and around in midair.\n",
            "　The sky was green and clear, and cherry blossoms were blooming in the garden.\n",
            "\n",
            "CPU times: user 36.9 ms, sys: 4.63 ms, total: 41.6 ms\n",
            "Wall time: 4.4 s\n"
          ]
        }
      ]
    },
    {
      "cell_type": "markdown",
      "source": [
        "## 表現のフォーマルさ"
      ],
      "metadata": {
        "id": "yv4nptwm7qXI"
      }
    },
    {
      "cell_type": "code",
      "source": [
        "input_text = \"How are you?\"\n",
        "source_lang = \"EN\"\n",
        "target_lang = \"DE\"\n",
        "formality_params = [\"less\", \"more\"]\n",
        "\n",
        "for formality_param in formality_params:\n",
        "  result = translator.translate_text(\n",
        "      text=input_text,\n",
        "      source_lang=source_lang,\n",
        "      target_lang=target_lang,\n",
        "      formality=formality_param)\n",
        "  print(formality_param, result.text) "
      ],
      "metadata": {
        "colab": {
          "base_uri": "https://localhost:8080/"
        },
        "id": "wu8Fu1pb8ZQH",
        "outputId": "a2e40e6a-25cf-400d-a62d-60a30ff444e8"
      },
      "execution_count": 37,
      "outputs": [
        {
          "output_type": "stream",
          "name": "stdout",
          "text": [
            "less Wie geht es dir?\n",
            "more Wie geht es Ihnen?\n"
          ]
        }
      ]
    },
    {
      "cell_type": "markdown",
      "source": [
        "フォーマル度合いオプションに対応している言語は以下のように調べることができます。残念ながら日本語は対応していないようです。"
      ],
      "metadata": {
        "id": "eJ_8YmK4_EXj"
      }
    },
    {
      "cell_type": "code",
      "source": [
        "print(\"Target languages:\")\n",
        "for language in translator.get_target_languages():\n",
        "    if language.supports_formality:\n",
        "        print(f\"{language.name} ({language.code}) supports formality\")\n",
        "        # Example: \"Italian (IT) supports formality\"\n",
        "    else:\n",
        "        print(f\"{language.name} ({language.code})\")\n",
        "        # Example: \"Lithuanian (LT)\""
      ],
      "metadata": {
        "colab": {
          "base_uri": "https://localhost:8080/"
        },
        "id": "6V0Lhrrx9iE6",
        "outputId": "e239250a-4332-4a05-9b20-6ccdea4cc055"
      },
      "execution_count": 28,
      "outputs": [
        {
          "output_type": "stream",
          "name": "stdout",
          "text": [
            "Target languages:\n",
            "Bulgarian (BG)\n",
            "Czech (CS)\n",
            "Danish (DA)\n",
            "German (DE) supports formality\n",
            "Greek (EL)\n",
            "English (British) (EN-GB)\n",
            "English (American) (EN-US)\n",
            "Spanish (ES) supports formality\n",
            "Estonian (ET)\n",
            "Finnish (FI)\n",
            "French (FR) supports formality\n",
            "Hungarian (HU)\n",
            "Indonesian (ID)\n",
            "Italian (IT) supports formality\n",
            "Japanese (JA)\n",
            "Lithuanian (LT)\n",
            "Latvian (LV)\n",
            "Dutch (NL) supports formality\n",
            "Polish (PL) supports formality\n",
            "Portuguese (Brazilian) (PT-BR) supports formality\n",
            "Portuguese (European) (PT-PT) supports formality\n",
            "Romanian (RO)\n",
            "Russian (RU) supports formality\n",
            "Slovak (SK)\n",
            "Slovenian (SL)\n",
            "Swedish (SV)\n",
            "Turkish (TR)\n",
            "Ukrainian (UK)\n",
            "Chinese (simplified) (ZH)\n"
          ]
        }
      ]
    },
    {
      "cell_type": "markdown",
      "source": [
        "# 独自辞書の作成\n",
        "独自辞書を作ることもできる。"
      ],
      "metadata": {
        "id": "9xRps4_VAUHT"
      }
    },
    {
      "cell_type": "code",
      "source": [
        "entries = {\"ドンブラコッコ\": \"Donburakokko\", \"スッコッコ\": \"Sukkokko\"}\n",
        "my_glossary = translator.create_glossary(\n",
        "    \"My glossary\",\n",
        "    source_lang=\"JA\",\n",
        "    target_lang=\"EN-US\",\n",
        "    entries=entries,\n",
        ")\n",
        "print(\n",
        "    f\"Created '{my_glossary.name}' ({my_glossary.glossary_id}) \"\n",
        "    f\"{my_glossary.source_lang}->{my_glossary.target_lang} \"\n",
        "    f\"containing {my_glossary.entry_count} entries\"\n",
        ")\n",
        "\n",
        "input_text = \"\"\"むかし、むかし、あるところに、おじいさんとおばあさんがありました。まいにち、おじいさんは山へしば刈りに、おばあさんは川へ洗濯に行きました。\n",
        "　ある日、おばあさんが、川のそばで、せっせと洗濯をしていますと、川上から、大きな桃が一つ、「ドンブラコッコ、スッコッコ。ドンブラコッコ、スッコッコ。」\"\"\"\n",
        "source_lang = \"JA\"\n",
        "target_lang = \"EN-US\"\n",
        "\n",
        "# 辞書指定なし\n",
        "result = translator.translate_text(\n",
        "    text=input_text,\n",
        "    source_lang=source_lang,\n",
        "    target_lang=target_lang)\n",
        "print(\"辞書指定なし\", result.text) \n",
        "\n",
        "# 辞書指定あり\n",
        "result = translator.translate_text(\n",
        "    text=input_text,\n",
        "    source_lang=source_lang,\n",
        "    target_lang=target_lang,\n",
        "    glossary=my_glossary)\n",
        "print(\"辞書指定あり\", result.text) "
      ],
      "metadata": {
        "colab": {
          "base_uri": "https://localhost:8080/"
        },
        "id": "G2G88FqwAVcm",
        "outputId": "3eae6d88-daf0-47ff-d8b5-1ae9f18eda10"
      },
      "execution_count": 46,
      "outputs": [
        {
          "output_type": "stream",
          "name": "stdout",
          "text": [
            "Created 'My glossary' (990eee69-d125-4c82-a8cf-532e8195bd3c) JA->EN containing 2 entries\n",
            "辞書指定なし Once upon a time, there was an old man and an old woman. Everyday, the grandfather went to the mountains to cut grass and the grandmother went to the river to wash her clothes.\n",
            "　One day, while the grandmother was diligently washing clothes by the river, a big peach came from upstream and said, \"Domburakotko, sukkotko. Domburakotko, sukkotko, sukkotko.\"\n",
            "辞書指定あり Once upon a time, there was an old man and an old woman. Everyday, the grandfather went to the mountains to cut grass and the grandmother went to the river to wash her clothes.\n",
            "　One day, while the grandmother was diligently washing clothes by the river, a big peach came from the river and said, \"Donburakokko, Sukkokko. Donburakokko, Sukkokko.\"\n"
          ]
        }
      ]
    }
  ]
}