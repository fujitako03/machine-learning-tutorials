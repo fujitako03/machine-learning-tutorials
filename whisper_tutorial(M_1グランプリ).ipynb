{
  "nbformat": 4,
  "nbformat_minor": 0,
  "metadata": {
    "colab": {
      "provenance": [],
      "toc_visible": true,
      "authorship_tag": "ABX9TyPb1hhYptcBKB45A4M45+z3",
      "include_colab_link": true
    },
    "kernelspec": {
      "name": "python3",
      "display_name": "Python 3"
    },
    "language_info": {
      "name": "python"
    },
    "accelerator": "GPU",
    "gpuClass": "standard"
  },
  "cells": [
    {
      "cell_type": "markdown",
      "metadata": {
        "id": "view-in-github",
        "colab_type": "text"
      },
      "source": [
        "<a href=\"https://colab.research.google.com/github/fujitako03/machine-learning-tutorials/blob/main/whisper_tutorial(M_1%E3%82%B0%E3%83%A9%E3%83%B3%E3%83%97%E3%83%AA).ipynb\" target=\"_parent\"><img src=\"https://colab.research.google.com/assets/colab-badge.svg\" alt=\"Open In Colab\"/></a>"
      ]
    },
    {
      "cell_type": "markdown",
      "source": [
        "# 高精度文字起こしAI Whisperを試してみる\n",
        " - [OpenAIの公式ドキュメント](https://openai.com/blog/whisper/)\n",
        " - [GitHub](https://github.com/openai/whisper)\n",
        "\n",
        "## Whisperとは\n",
        "OpenAIが開発したWhisperは、ウェブから収集した68万時間に及ぶ多言語・マルチタスク教師付きデータで学習させた自動音声認識（ASR）システム。\n",
        "\n",
        "大規模で多様なデータセットを使用することで、アクセント、背景雑音、専門用語に対する耐性が向上している。さらに、多言語での書き起こしや、多言語から英語への翻訳も可能。\n",
        "\n",
        "モデルと推論コードをオープンソースで公開されている"
      ],
      "metadata": {
        "id": "tbAGy5wjdaDK"
      }
    },
    {
      "cell_type": "markdown",
      "source": [
        "## 準備"
      ],
      "metadata": {
        "id": "U9mX4IYggJkH"
      }
    },
    {
      "cell_type": "code",
      "source": [
        "# google drive にマウント\n",
        "from google.colab import drive\n",
        "drive.mount('/content/drive')"
      ],
      "metadata": {
        "colab": {
          "base_uri": "https://localhost:8080/"
        },
        "id": "A8wOS-5WgNO4",
        "outputId": "5406380c-fcde-4f7f-a237-5d56b8c7824c"
      },
      "execution_count": 4,
      "outputs": [
        {
          "output_type": "stream",
          "name": "stdout",
          "text": [
            "Mounted at /content/drive\n"
          ]
        }
      ]
    },
    {
      "cell_type": "code",
      "execution_count": 3,
      "metadata": {
        "colab": {
          "base_uri": "https://localhost:8080/"
        },
        "id": "8zBYxQBPch8Y",
        "outputId": "f04fe52b-0112-43de-a517-6e7df58d925b"
      },
      "outputs": [
        {
          "output_type": "stream",
          "name": "stdout",
          "text": [
            "Looking in indexes: https://pypi.org/simple, https://us-python.pkg.dev/colab-wheels/public/simple/\n",
            "Collecting git+https://github.com/openai/whisper.git\n",
            "  Cloning https://github.com/openai/whisper.git to /tmp/pip-req-build-0au1wu9y\n",
            "  Running command git clone --filter=blob:none --quiet https://github.com/openai/whisper.git /tmp/pip-req-build-0au1wu9y\n",
            "  Resolved https://github.com/openai/whisper.git to commit 28769fcfe50755a817ab922a7bc83483159600a9\n",
            "  Preparing metadata (setup.py) ... \u001b[?25l\u001b[?25hdone\n",
            "Requirement already satisfied: numpy in /usr/local/lib/python3.8/dist-packages (from whisper==1.0) (1.21.6)\n",
            "Requirement already satisfied: torch in /usr/local/lib/python3.8/dist-packages (from whisper==1.0) (1.13.0+cu116)\n",
            "Requirement already satisfied: tqdm in /usr/local/lib/python3.8/dist-packages (from whisper==1.0) (4.64.1)\n",
            "Requirement already satisfied: more-itertools in /usr/local/lib/python3.8/dist-packages (from whisper==1.0) (9.0.0)\n",
            "Requirement already satisfied: transformers>=4.19.0 in /usr/local/lib/python3.8/dist-packages (from whisper==1.0) (4.25.1)\n",
            "Requirement already satisfied: ffmpeg-python==0.2.0 in /usr/local/lib/python3.8/dist-packages (from whisper==1.0) (0.2.0)\n",
            "Requirement already satisfied: future in /usr/local/lib/python3.8/dist-packages (from ffmpeg-python==0.2.0->whisper==1.0) (0.16.0)\n",
            "Requirement already satisfied: pyyaml>=5.1 in /usr/local/lib/python3.8/dist-packages (from transformers>=4.19.0->whisper==1.0) (6.0)\n",
            "Requirement already satisfied: filelock in /usr/local/lib/python3.8/dist-packages (from transformers>=4.19.0->whisper==1.0) (3.8.2)\n",
            "Requirement already satisfied: packaging>=20.0 in /usr/local/lib/python3.8/dist-packages (from transformers>=4.19.0->whisper==1.0) (21.3)\n",
            "Requirement already satisfied: tokenizers!=0.11.3,<0.14,>=0.11.1 in /usr/local/lib/python3.8/dist-packages (from transformers>=4.19.0->whisper==1.0) (0.13.2)\n",
            "Requirement already satisfied: huggingface-hub<1.0,>=0.10.0 in /usr/local/lib/python3.8/dist-packages (from transformers>=4.19.0->whisper==1.0) (0.11.1)\n",
            "Requirement already satisfied: requests in /usr/local/lib/python3.8/dist-packages (from transformers>=4.19.0->whisper==1.0) (2.25.1)\n",
            "Requirement already satisfied: regex!=2019.12.17 in /usr/local/lib/python3.8/dist-packages (from transformers>=4.19.0->whisper==1.0) (2022.6.2)\n",
            "Requirement already satisfied: typing-extensions in /usr/local/lib/python3.8/dist-packages (from torch->whisper==1.0) (4.4.0)\n",
            "Requirement already satisfied: pyparsing!=3.0.5,>=2.0.2 in /usr/local/lib/python3.8/dist-packages (from packaging>=20.0->transformers>=4.19.0->whisper==1.0) (3.0.9)\n",
            "Requirement already satisfied: chardet<5,>=3.0.2 in /usr/local/lib/python3.8/dist-packages (from requests->transformers>=4.19.0->whisper==1.0) (4.0.0)\n",
            "Requirement already satisfied: urllib3<1.27,>=1.21.1 in /usr/local/lib/python3.8/dist-packages (from requests->transformers>=4.19.0->whisper==1.0) (1.24.3)\n",
            "Requirement already satisfied: certifi>=2017.4.17 in /usr/local/lib/python3.8/dist-packages (from requests->transformers>=4.19.0->whisper==1.0) (2022.12.7)\n",
            "Requirement already satisfied: idna<3,>=2.5 in /usr/local/lib/python3.8/dist-packages (from requests->transformers>=4.19.0->whisper==1.0) (2.10)\n"
          ]
        }
      ],
      "source": [
        "# インストール\n",
        "!pip install git+https://github.com/openai/whisper.git"
      ]
    },
    {
      "cell_type": "markdown",
      "source": [
        "## 実験\n",
        "会議の議事録などの精度が良いことはわかってるので、今回は、2022M-1グランプリのネタで試してみたいとおもいます。"
      ],
      "metadata": {
        "id": "FiAE5WVyg7QF"
      }
    },
    {
      "cell_type": "code",
      "source": [
        "import whisper\n",
        "\n",
        "\"\"\"\n",
        "size\t parameters\n",
        "tiny\t 39M\n",
        "base\t 74M\n",
        "small  244M\n",
        "medium 769M\n",
        "large\t 1550M\n",
        "\"\"\""
      ],
      "metadata": {
        "colab": {
          "base_uri": "https://localhost:8080/",
          "height": 36
        },
        "id": "pFneUqzbcmVz",
        "outputId": "b80ec649-bdcd-48f5-b756-1861b3f2c3b6"
      },
      "execution_count": 5,
      "outputs": [
        {
          "output_type": "execute_result",
          "data": {
            "text/plain": [
              "'\\nsize\\t parameters\\ntiny\\t 39M\\nbase\\t 74M\\nsmall  244M\\nmedium 769M\\nlarge\\t 1550M\\n'"
            ],
            "application/vnd.google.colaboratory.intrinsic+json": {
              "type": "string"
            }
          },
          "metadata": {},
          "execution_count": 5
        }
      ]
    },
    {
      "cell_type": "code",
      "source": [
        "manzai_dict = {\n",
        "    \"westland_2022_2\":\"/content/drive/MyDrive/colab/Whisper/ウエストランド【決勝ネタ】最終決戦〈ネタ順1〉M-1グランプリ2022.mp3\",\n",
        "    \"oswald_2022_1\":\"/content/drive/MyDrive/colab/Whisper/オズワルド【決勝ネタ】1st Round〈ネタ順3〉M-1グランプリ2022.mp3\"\n",
        "}\n",
        "model_type_patterns = [\"small\", \"medium\", \"large\"]\n",
        "\n",
        "result = {}\n",
        "for maizai in manzai_dict.keys():\n",
        "  print(f\"start {maizai}\")\n",
        "  for model_type in model_type_patterns:\n",
        "    print(f\"start {model_type}\")\n",
        "    model = whisper.load_model(model_type)\n",
        "    result[model_type] = model.transcribe(manzai_dict[maizai], verbose=True, language='ja')"
      ],
      "metadata": {
        "colab": {
          "base_uri": "https://localhost:8080/",
          "height": 1000
        },
        "id": "Ss0bCS_IdOhC",
        "outputId": "d5a3eb51-f610-4dbd-a4a8-97f63d2840c1"
      },
      "execution_count": 15,
      "outputs": [
        {
          "output_type": "stream",
          "name": "stdout",
          "text": [
            "start westland_2022_2\n",
            "start small\n",
            "[00:00.000 --> 00:07.000] 【拍手】\n",
            "[00:07.000 --> 00:09.000] どうもー!\n",
            "[00:09.000 --> 00:10.000] 新たにましてウエスランドです\n",
            "[00:10.000 --> 00:11.000] よろしくお願いします\n",
            "[00:11.000 --> 00:13.000] ありがとうございます\n",
            "[00:13.000 --> 00:14.000] 頑張っていきましょう\n",
            "[00:14.000 --> 00:15.000] オリジナルのね\n",
            "[00:15.000 --> 00:16.000] アルナシクイズ考えて\n",
            "[00:16.000 --> 00:17.000] うん\n",
            "[00:17.000 --> 00:18.000] やります\n",
            "[00:18.000 --> 00:19.000] もうたまたま大好きなんで\n",
            "[00:19.000 --> 00:20.000] ありがとうございます\n",
            "[00:20.000 --> 00:21.000] ちょっと出してもらっていいですか\n",
            "[00:21.000 --> 00:22.000] まずね\n",
            "[00:22.000 --> 00:23.000] アイドルにはあるけど\n",
            "[00:23.000 --> 00:24.000] 役者にはない\n",
            "[00:24.000 --> 00:25.000] アイドルにはあるけど\n",
            "[00:25.000 --> 00:26.000] 役者にはない\n",
            "[00:26.000 --> 00:27.000] はい、わかりました\n",
            "[00:27.000 --> 00:29.000] まだ1個目でもわかるから\n",
            "[00:29.000 --> 00:30.000] じゃあどうぞ\n",
            "[00:30.000 --> 00:31.000] 正解は\n",
            "[00:31.000 --> 00:32.000] 工場師\n",
            "[00:32.000 --> 00:33.000] なんでですか\n",
            "[00:33.000 --> 00:35.000] アイドルはなんとして群れてやるという\n",
            "[00:35.000 --> 00:36.000] 工場師がすごいから\n",
            "[00:36.000 --> 00:38.000] 他人を経おうとしてても\n",
            "[00:38.000 --> 00:39.000] 自分だけは群れてやるんだという\n",
            "[00:39.000 --> 00:41.000] 悪無き工場師の塊だから\n",
            "[00:41.000 --> 00:44.000] 急に心霊が見えると言い出してみたり\n",
            "[00:44.000 --> 00:47.000] 急に部屋が汚いと言い出してみたり\n",
            "[00:47.000 --> 00:49.000] ネクストブレイクぐらいの芸人に近づいて\n",
            "[00:49.000 --> 00:51.000] お笑い分かってますずらしてみたり\n",
            "[00:51.000 --> 00:52.000] なんとしても自分だけは群れているという\n",
            "[00:52.000 --> 00:53.000] 工場師がすごいから\n",
            "[00:53.000 --> 00:54.000] 正解は工場師んだろ\n",
            "[00:54.000 --> 00:55.000] 違います\n",
            "[00:55.000 --> 00:56.000] いや、工場師\n",
            "[00:56.000 --> 00:57.000] いやってことはない\n",
            "[00:57.000 --> 00:58.000] 工場師んだろ\n",
            "[00:58.000 --> 00:59.000] 違う\n",
            "[00:59.000 --> 01:00.000] そうだなしの方の役者なんて\n",
            "[01:00.000 --> 01:01.000] そこらの部隊役者\n",
            "[01:01.000 --> 01:02.000] お互いの芝居ミニクだけで\n",
            "[01:02.000 --> 01:03.000] 何の工場師もないんだから\n",
            "[01:03.000 --> 01:05.000] 一つも成長しねえじゃないかあいつら\n",
            "[01:05.000 --> 01:07.000] うん、演出が悪いなとか\n",
            "[01:07.000 --> 01:08.000] 客婚が悪いなとかて\n",
            "[01:08.000 --> 01:09.000] 何にも成長しないんだから\n",
            "[01:09.000 --> 01:10.000] 毎売り5500円\n",
            "[01:10.000 --> 01:11.000] たけえよ\n",
            "[01:11.000 --> 01:13.000] 高いから\n",
            "[01:13.000 --> 01:15.000] 毎回毎回\n",
            "[01:15.000 --> 01:17.000] 知らない奴がいっぱい乗ってる裏病士\n",
            "[01:17.000 --> 01:18.000] いらないんだよね\n",
            "[01:18.000 --> 01:19.000] 正解は工場師んだろ\n",
            "[01:19.000 --> 01:20.000] 違う\n",
            "[01:20.000 --> 01:21.000] 工場師\n",
            "[01:21.000 --> 01:22.000] 違います\n",
            "[01:22.000 --> 01:23.000] 違うの\n",
            "[01:23.000 --> 01:24.000] じゃあもう次って言って次\n",
            "[01:24.000 --> 01:26.000] 田舎にはあるけど都会にはない\n",
            "[01:26.000 --> 01:28.000] はい、わかりました\n",
            "[01:28.000 --> 01:29.000] じゃあどうぞ\n",
            "[01:29.000 --> 01:30.000] ひけめ\n",
            "[01:30.000 --> 01:31.000] いくら田舎で成功しても\n",
            "[01:31.000 --> 01:33.000] 同性都会では通用しないもんなの\n",
            "[01:33.000 --> 01:34.000] ひけめをつなに感じるから\n",
            "[01:34.000 --> 01:35.000] 正解はひけめだろ\n",
            "[01:35.000 --> 01:37.000] 違いますしそんなことない\n",
            "[01:37.000 --> 01:38.000] いや、ひけめだよ\n",
            "[01:38.000 --> 01:39.000] 違います\n",
            "[01:39.000 --> 01:40.000] ひけめだろ\n",
            "[01:40.000 --> 01:41.000] 違います\n",
            "[01:41.000 --> 01:42.000] ひけめだろ\n",
            "[01:42.000 --> 01:43.000] じゃあアイドルにもひけめあって\n",
            "[01:43.000 --> 01:44.000] アイドルひけめ感じるの\n",
            "[01:44.000 --> 01:45.000] 決まったんだよ\n",
            "[01:45.000 --> 01:46.000] 嘘ついてる俺はとしてんだ\n",
            "[01:46.000 --> 01:47.000] こんなの\n",
            "[01:47.000 --> 01:48.000] ひけめの数までだろ\n",
            "[01:48.000 --> 01:49.000] 年齢から何かで嘘ついてんだから\n",
            "[01:49.000 --> 01:50.000] ひけめだろ\n",
            "[01:50.000 --> 01:51.000] ひけめ\n",
            "[01:51.000 --> 01:52.000] 違うふつう\n",
            "[01:52.000 --> 01:53.000] 虚無感\n",
            "[01:53.000 --> 01:54.000] 田舎だもんなの\n",
            "[01:54.000 --> 01:56.000] 虚無感\n",
            "[01:56.000 --> 01:57.000] こんなことない\n",
            "[01:57.000 --> 01:58.000] 違います\n",
            "[01:58.000 --> 01:59.000] 次って言って次\n",
            "[01:59.000 --> 02:00.000] 歌にはあるけど\n",
            "[02:00.000 --> 02:01.000] コントにはない\n",
            "[02:01.000 --> 02:02.000] はい、ご覧がありました\n",
            "[02:02.000 --> 02:03.000] じゃあどうぞ\n",
            "[02:03.000 --> 02:04.000] 正解はメッセージ制\n",
            "[02:04.000 --> 02:06.000] なぜなら歌にはメッセージ制必要だけど\n",
            "[02:06.000 --> 02:08.000] お笑いにはメッセージ制とか必要ないから\n",
            "[02:08.000 --> 02:09.000] 正解はメッセージ制\n",
            "[02:09.000 --> 02:10.000] あー残念違います\n",
            "[02:10.000 --> 02:12.000] そうか、ネタにメッセージ制詰めてくる\n",
            "[02:12.000 --> 02:13.000] うざいコントしとかいるか\n",
            "[02:13.000 --> 02:15.000] やめてくれー\n",
            "[02:15.000 --> 02:17.000] 単独ライブの最後の20分\n",
            "[02:17.000 --> 02:19.000] 超弱コントやめてくれー\n",
            "[02:19.000 --> 02:20.000] いらねー\n",
            "[02:20.000 --> 02:21.000] ホッコリ終わりやめてー\n",
            "[02:21.000 --> 02:23.000] 友情ホッコリ終わりやめてくれー\n",
            "[02:23.000 --> 02:24.000] 見てられないから\n",
            "[02:24.000 --> 02:26.000] なんか文章のタイトルするのやめてくれー\n",
            "[02:26.000 --> 02:27.000] 単独ライブのタイトル\n",
            "[02:27.000 --> 02:28.000] 不条理な文章にするの\n",
            "[02:28.000 --> 02:29.000] 聖天なのに傘\n",
            "[02:29.000 --> 02:31.000] やめてくれー\n",
            "[02:31.000 --> 02:33.000] やめてくれー終わらない部で\n",
            "[02:33.000 --> 02:34.000] なんかフライヤー\n",
            "[02:34.000 --> 02:35.000] ポスターのこと\n",
            "[02:35.000 --> 02:36.000] チラシをフライヤーと呼び\n",
            "[02:36.000 --> 02:37.000] なんかそれも\n",
            "[02:37.000 --> 02:38.000] なんか不条理にするやつ\n",
            "[02:38.000 --> 02:40.000] ガレキの前でパジャマやめてくれー\n",
            "[02:40.000 --> 02:41.000] 不条理な\n",
            "[02:41.000 --> 02:42.000] フライヤー\n",
            "[02:42.000 --> 02:43.000] 不条理なフライヤー\n",
            "[02:43.000 --> 02:44.000] 答えた?\n",
            "[02:44.000 --> 02:45.000] 違う\n",
            "[02:45.000 --> 02:46.000] 不条理なフライヤー\n",
            "[02:46.000 --> 02:47.000] そんなわけないでしょ\n",
            "[02:47.000 --> 02:48.000] 違うの?\n",
            "[02:48.000 --> 02:49.000] 違うよ\n",
            "[02:49.000 --> 02:50.000] じゃあ次言ってくれ次\n",
            "[02:50.000 --> 02:51.000] M1にはあるけど\n",
            "[02:51.000 --> 02:52.000] R1にはない\n",
            "[02:52.000 --> 02:53.000] 夢\n",
            "[02:53.000 --> 02:54.000] そんなことない\n",
            "[02:54.000 --> 02:55.000] 希望\n",
            "[02:55.000 --> 02:56.000] 希望\n",
            "[02:56.000 --> 02:57.000] 希望\n",
            "[02:57.000 --> 02:58.000] 希望\n",
            "[02:58.000 --> 02:59.000] 大会の価値\n",
            "[03:00.000 --> 03:01.000] 大会の希望\n",
            "[03:02.000 --> 03:03.000] そうです\n",
            "[03:03.000 --> 03:04.000] M1を決していく中で人生が変わるけど\n",
            "[03:04.000 --> 03:05.000] R1は何にも変わんないから\n",
            "[03:05.000 --> 03:06.000] そういうのが\n",
            "[03:06.000 --> 03:07.000] 夢\n",
            "[03:07.000 --> 03:08.000] 希望\n",
            "[03:09.000 --> 03:10.000] どうしちゃったの?\n",
            "[03:10.000 --> 03:11.000] そうだろ\n",
            "[03:12.000 --> 03:13.000] 当てる気ないでしょ\n",
            "[03:13.000 --> 03:14.000] 当てる気あるよな\n",
            "[03:14.000 --> 03:15.000] 自分の気持ち言ってますね\n",
            "[03:15.000 --> 03:16.000] 自分の気持ちじゃなく\n",
            "[03:16.000 --> 03:17.000] クイズに正解したいだけだから\n",
            "[03:17.000 --> 03:18.000] 次言ってくれ次\n",
            "[03:18.000 --> 03:19.000] じゃあ大阪にはあるけど\n",
            "[03:19.000 --> 03:20.000] 東京にはない\n",
            "[03:20.000 --> 03:21.000] はい\n",
            "[03:21.000 --> 03:22.000] 大阪の大阪正義だという\n",
            "[03:22.000 --> 03:23.000] これからまた考え\n",
            "[03:24.000 --> 03:25.000] それも\n",
            "[03:25.000 --> 03:26.000] すごい落ち着けてくる\n",
            "[03:26.000 --> 03:27.000] あの感じ\n",
            "[03:27.000 --> 03:28.000] なんか時逆ネタばっかり言うくさい\n",
            "[03:28.000 --> 03:29.000] こっちが言ったら\n",
            "[03:29.000 --> 03:30.000] ぶちげる\n",
            "[03:30.000 --> 03:31.000] あの感じなんか\n",
            "[03:31.000 --> 03:32.000] ずっと\n",
            "[03:32.000 --> 03:33.000] え? 疲れたら\n",
            "[03:33.000 --> 03:34.000] そっちに並びまんの\n",
            "[03:34.000 --> 03:35.000] ずっと言う\n",
            "[03:35.000 --> 03:36.000] あの感じなら\n",
            "[03:36.000 --> 03:37.000] そうだろうか\n",
            "[03:37.000 --> 03:38.000] 結局どれだ\n",
            "[03:38.000 --> 03:39.000] うざい\n",
            "[03:39.000 --> 03:40.000] R4は全部うざい\n",
            "[03:40.000 --> 03:41.000] M1も\n",
            "[03:41.000 --> 03:42.000] M1もうざい\n",
            "[03:42.000 --> 03:43.000] アナザーストーリーがうざい\n",
            "[03:43.000 --> 03:44.000] いらないでよ\n",
            "[03:44.000 --> 03:45.000] 泣きながら\n",
            "[03:45.000 --> 03:46.000] お母さんに電話するな\n",
            "[03:46.000 --> 03:47.000] 優勝したら\n",
            "[03:47.000 --> 03:48.000] よーじゃないで\n",
            "[03:48.000 --> 03:49.000] どうだめにあんのか\n",
            "[03:49.000 --> 03:50.000] 見てらんないから\n",
            "[03:50.000 --> 03:51.000] R4もない方も\n",
            "[03:51.000 --> 03:52.000] 両方うざい\n",
            "[03:52.000 --> 03:53.000] R4は仕事にならないじゃん\n",
            "[03:53.000 --> 03:54.000] じゃあ正解何なんだよ\n",
            "[03:54.000 --> 03:55.000] 正解の貸し上げを\n",
            "[03:55.000 --> 03:56.000] 全部並べると\n",
            "[03:56.000 --> 03:57.000] アイウェイをなってるっていうね\n",
            "[03:58.000 --> 03:59.000] くそつまんねーじゃないかよ\n",
            "[03:59.000 --> 04:00.000] もういいよ\n",
            "[04:00.000 --> 04:21.000] ありがとうございます\n",
            "start medium\n"
          ]
        },
        {
          "output_type": "stream",
          "name": "stderr",
          "text": [
            "100%|█████████████████████████████████████| 1.42G/1.42G [00:29<00:00, 51.3MiB/s]\n"
          ]
        },
        {
          "output_type": "stream",
          "name": "stdout",
          "text": [
            "[00:00.000 --> 00:07.000] 【拍手】\n",
            "[00:07.000 --> 00:09.000] おぉー!\n",
            "[00:09.000 --> 00:13.000] 改めましてウエス・ハンドです。よろしくお願いします。ありがとうございます。\n",
            "[00:13.000 --> 00:14.000] 頑張っていきましょう。\n",
            "[00:14.000 --> 00:18.000] オリジナルのね、あるなしクイズ考えてる。やります。\n",
            "[00:18.000 --> 00:19.000] たまたま大好きなんで。\n",
            "[00:19.000 --> 00:20.000] そうです。\n",
            "[00:20.000 --> 00:21.000] ちょっと出してもらっていいですか?\n",
            "[00:21.000 --> 00:24.000] まずね、アイドルにはあるけど、役者にはない。\n",
            "[00:24.000 --> 00:26.000] アイドルにはあるけど、役者にはない。\n",
            "[00:26.000 --> 00:27.000] はい、わかりました。\n",
            "[00:27.000 --> 00:28.000] まだ、まだ、1個目です。\n",
            "[00:28.000 --> 00:30.000] でも、わかるから。\n",
            "[00:30.000 --> 00:31.000] じゃあ、どうぞ。\n",
            "[00:31.000 --> 00:32.000] 正解は、向上心。\n",
            "[00:32.000 --> 00:34.000] なんでですか?\n",
            "[00:34.000 --> 00:37.000] アイドルは何としても売れてやるという向上心がすごいから。\n",
            "[00:37.000 --> 00:42.000] 他人を蹴落としてても、自分だけは売れてやるんだという悪なき向上心の塊だから。\n",
            "[00:42.000 --> 00:45.000] 急に心霊が見えると言い出してみたり、\n",
            "[00:45.000 --> 00:47.000] 急に部屋が汚いと言い出してみたり、\n",
            "[00:47.000 --> 00:51.000] NEXTブレイクぐらいの芸人に近づいて、お笑い分かってまつずらしてみたり、\n",
            "[00:51.000 --> 00:55.000] 何としても自分だけは売れるという向上心がすごいから、正解は向上心だろ。\n",
            "[00:55.000 --> 00:56.000] 違います。\n",
            "[00:56.000 --> 00:57.000] 言いや、向上心。\n",
            "[00:57.000 --> 00:58.000] 向上心だろ。\n",
            "[00:58.000 --> 00:59.000] 違います。\n",
            "[00:59.000 --> 01:01.000] だから、そうだ。なしの方の役者なんて、そこら辺の舞台役者はお互いの芝居見に行くだけで、\n",
            "[01:01.000 --> 01:03.000] 何の向上心もないんだから。\n",
            "[01:03.000 --> 01:05.000] 一つも成長しないでね、彼奴ら。\n",
            "[01:05.000 --> 01:07.000] うん、演出が悪いなとか、脚本が悪いなとか言って、\n",
            "[01:07.000 --> 01:11.000] 何にも成長しないんだから、前売り5500円、高えよ。\n",
            "[01:11.000 --> 01:13.000] 高いから。\n",
            "[01:13.000 --> 01:17.000] 毎回毎回、知らない奴がいっぱい載ってる裏拍子、いらないんだよ、あれ。\n",
            "[01:17.000 --> 01:19.000] だから、正解は向上心だろ。\n",
            "[01:19.000 --> 01:20.000] 違う。\n",
            "[01:20.000 --> 01:21.000] 向上心。\n",
            "[01:21.000 --> 01:22.000] 違います。\n",
            "[01:22.000 --> 01:23.000] 違うの?\n",
            "[01:23.000 --> 01:24.000] 違うよ。\n",
            "[01:24.000 --> 01:27.000] 田舎にはあるけど、都会にはない。\n",
            "[01:27.000 --> 01:28.000] 田舎にはあるけど、都会にはない。\n",
            "[01:28.000 --> 01:29.000] はい、わかりました。\n",
            "[01:29.000 --> 01:30.000] じゃあどうぞ。\n",
            "[01:30.000 --> 01:31.000] 引け目。\n",
            "[01:31.000 --> 01:36.000] いくら田舎で成功しても、どうせ都会では通用しないもんなの引け目を常に感じてるから、正解は引け目だろ。\n",
            "[01:36.000 --> 01:38.000] 違いますし、そんなことないで。\n",
            "[01:38.000 --> 01:39.000] いや、引け目だよ。\n",
            "[01:39.000 --> 01:40.000] 違います。\n",
            "[01:40.000 --> 01:41.000] 引け目だろ。\n",
            "[01:41.000 --> 01:42.000] 違います。\n",
            "[01:42.000 --> 01:43.000] 引け目だろ。\n",
            "[01:43.000 --> 01:44.000] じゃあアイドルにも引け目ある。\n",
            "[01:44.000 --> 01:46.000] アイドル引け目感じるよ。決まってんだ。嘘ついて売り落としてんだ、こんなの。\n",
            "[01:46.000 --> 01:48.000] 引け目の数丸だろ。\n",
            "[01:48.000 --> 01:54.000] 違うから嘘ついてんだから。引け目だろ。引け目。\n",
            "[01:54.000 --> 01:55.000] 違う。\n",
            "[01:55.000 --> 01:56.000] 巨無感。\n",
            "[01:56.000 --> 01:57.000] 巨無感。\n",
            "[01:57.000 --> 01:58.000] 田舎だもんなの巨無感。ここで活躍しても田舎だもんなの巨無感。\n",
            "[01:58.000 --> 01:59.000] そんなことない。\n",
            "[01:59.000 --> 02:00.000] 違います。\n",
            "[02:00.000 --> 02:01.000] じゃあ次言ってる次。\n",
            "[02:01.000 --> 02:02.000] 歌にはあるけど、コントにはない。\n",
            "[02:02.000 --> 02:03.000] はい、これわかりました。\n",
            "[02:03.000 --> 02:04.000] じゃあどうぞ。\n",
            "[02:04.000 --> 02:09.000] 正解はメッセージ制。なぜなら歌にはメッセージ制必要だけど、オーライにはメッセージ制とか必要ないから、正解はメッセージ制。\n",
            "[02:09.000 --> 02:10.000] あー、残念違います。\n",
            "[02:10.000 --> 02:16.000] そうか、ネタにメッセージ制詰めてくるうざいコント人がいるか。やめてくれ。\n",
            "[02:16.000 --> 02:24.000] 単独ライブの最後の20分、長尺コントやめてくれ。いらねー。ほっこり終わりやめて。友情ほっこり終わりやめてくれ。見てられないから。\n",
            "[02:24.000 --> 02:28.000] なんか文章のタイトルにするのやめてくれ。単独ライブのタイトル。不条理な文章にするの。\n",
            "[02:28.000 --> 02:36.000] 晴天なのに傘。やめてくれ。やめてくれ。オーライライブで。なんかフライヤー。ポスターのこと。チラシのフライヤーと呼び。\n",
            "[02:36.000 --> 02:43.000] なんかそれもなんか不条理するやつ。がれきの前でパジャマ。やめてくれ。不条理な。フライヤー。不条理な。フライヤー。\n",
            "[02:43.000 --> 02:44.000] 答えが?\n",
            "[02:44.000 --> 02:46.000] 違うん。不条理な。フライヤー。\n",
            "[02:46.000 --> 02:47.000] そんなわけないでしょ。\n",
            "[02:47.000 --> 02:48.000] 違うの?\n",
            "[02:47.000 --> 02:48.000] 違うよ。\n",
            "[02:48.000 --> 02:49.000] じゃあもう次言ってくれ。次。\n",
            "[02:49.000 --> 02:51.000] M1にはあるけど、R1にはない。\n",
            "[02:51.000 --> 02:52.000] はい。えー夢。\n",
            "[02:52.000 --> 02:53.000] そんなことない。\n",
            "[02:53.000 --> 03:01.000] 夢。希望。希望。大会の価値。大会の希望。\n",
            "[03:01.000 --> 03:06.000] M1は決勝に行くだけで人生変わるけど、R1は何も変わらないから。夢。\n",
            "[03:06.000 --> 03:07.000] そんなことない。\n",
            "[03:07.000 --> 03:11.000] 希望。どうしちゃったの?そうだろ。\n",
            "[03:11.000 --> 03:12.000] 当てる気ないでしょ。\n",
            "[03:12.000 --> 03:14.000] 当てる気あるよ。女の。\n",
            "[03:14.000 --> 03:15.000] 自分の気持ち言ってません?\n",
            "[03:15.000 --> 03:18.000] 自分の気持ちじゃない。クイズに正解したいだけだから。次言ってくれ。次。\n",
            "[03:18.000 --> 03:20.000] じゃあ大阪にはあるけど、東京にはない。\n",
            "[03:20.000 --> 03:23.000] はい。えー自分たちのお笑いが正義だという。これかたまった考え。\n",
            "[03:23.000 --> 03:27.000] それもなんかすごい落ち着けてくる。あの感じ。\n",
            "[03:27.000 --> 03:30.000] なんか自虐ネタばっかり言うくせにこっち側いじったらぶち切れる。あの感じ。\n",
            "[03:30.000 --> 03:34.000] ずっとエスカレーターそっちに並びまんのをずっと言う。あの感じだろ。それだろーか。\n",
            "[03:34.000 --> 03:35.000] 結果どれら?\n",
            "[03:35.000 --> 03:37.000] うざい。R4は全部うざい。\n",
            "[03:37.000 --> 03:38.000] M1も?\n",
            "[03:38.000 --> 03:39.000] M1もうざい。\n",
            "[03:39.000 --> 03:43.000] アナザーストーリーがうざい。いらないんだよ。\n",
            "[03:43.000 --> 03:46.000] 泣きながらお母さんに電話するな。\n",
            "[03:46.000 --> 03:48.000] 優勝したい王じゃないんだよ。どうでもいいんだろ。\n",
            "[03:48.000 --> 03:51.000] 見てらんないから。うざい大罪ある方もない方も両方うざい。\n",
            "[03:51.000 --> 03:53.000] あるな。シクイズにならないじゃないですか。\n",
            "[03:53.000 --> 03:54.000] じゃあ正解なんなんだよ。\n",
            "[03:54.000 --> 03:57.000] 正解の頭文字全部並べると、ああいうAOになってるっていうね。\n",
            "[03:57.000 --> 04:09.000] クソつまんねーじゃねーかよ。もういいよ。どうもありがとうございました。\n",
            "start large\n"
          ]
        },
        {
          "output_type": "stream",
          "name": "stderr",
          "text": [
            "100%|██████████████████████████████████████| 2.87G/2.87G [00:13<00:00, 225MiB/s]\n"
          ]
        },
        {
          "output_type": "error",
          "ename": "OutOfMemoryError",
          "evalue": "ignored",
          "traceback": [
            "\u001b[0;31m---------------------------------------------------------------------------\u001b[0m",
            "\u001b[0;31mOutOfMemoryError\u001b[0m                          Traceback (most recent call last)",
            "\u001b[0;32m<ipython-input-15-749f928dea1f>\u001b[0m in \u001b[0;36m<module>\u001b[0;34m\u001b[0m\n\u001b[1;32m     10\u001b[0m   \u001b[0;32mfor\u001b[0m \u001b[0mmodel_type\u001b[0m \u001b[0;32min\u001b[0m \u001b[0mmodel_type_patterns\u001b[0m\u001b[0;34m:\u001b[0m\u001b[0;34m\u001b[0m\u001b[0;34m\u001b[0m\u001b[0m\n\u001b[1;32m     11\u001b[0m     \u001b[0mprint\u001b[0m\u001b[0;34m(\u001b[0m\u001b[0;34mf\"start {model_type}\"\u001b[0m\u001b[0;34m)\u001b[0m\u001b[0;34m\u001b[0m\u001b[0;34m\u001b[0m\u001b[0m\n\u001b[0;32m---> 12\u001b[0;31m     \u001b[0mmodel\u001b[0m \u001b[0;34m=\u001b[0m \u001b[0mwhisper\u001b[0m\u001b[0;34m.\u001b[0m\u001b[0mload_model\u001b[0m\u001b[0;34m(\u001b[0m\u001b[0mmodel_type\u001b[0m\u001b[0;34m)\u001b[0m\u001b[0;34m\u001b[0m\u001b[0;34m\u001b[0m\u001b[0m\n\u001b[0m\u001b[1;32m     13\u001b[0m     \u001b[0mresult\u001b[0m\u001b[0;34m[\u001b[0m\u001b[0mmodel_type\u001b[0m\u001b[0;34m]\u001b[0m \u001b[0;34m=\u001b[0m \u001b[0mmodel\u001b[0m\u001b[0;34m.\u001b[0m\u001b[0mtranscribe\u001b[0m\u001b[0;34m(\u001b[0m\u001b[0mmanzai_dict\u001b[0m\u001b[0;34m[\u001b[0m\u001b[0mmaizai\u001b[0m\u001b[0;34m]\u001b[0m\u001b[0;34m,\u001b[0m \u001b[0mverbose\u001b[0m\u001b[0;34m=\u001b[0m\u001b[0;32mTrue\u001b[0m\u001b[0;34m,\u001b[0m \u001b[0mlanguage\u001b[0m\u001b[0;34m=\u001b[0m\u001b[0;34m'ja'\u001b[0m\u001b[0;34m)\u001b[0m\u001b[0;34m\u001b[0m\u001b[0;34m\u001b[0m\u001b[0m\n",
            "\u001b[0;32m/usr/local/lib/python3.8/dist-packages/whisper/__init__.py\u001b[0m in \u001b[0;36mload_model\u001b[0;34m(name, device, download_root, in_memory)\u001b[0m\n\u001b[1;32m    114\u001b[0m     \u001b[0mmodel\u001b[0m\u001b[0;34m.\u001b[0m\u001b[0mload_state_dict\u001b[0m\u001b[0;34m(\u001b[0m\u001b[0mcheckpoint\u001b[0m\u001b[0;34m[\u001b[0m\u001b[0;34m\"model_state_dict\"\u001b[0m\u001b[0;34m]\u001b[0m\u001b[0;34m)\u001b[0m\u001b[0;34m\u001b[0m\u001b[0;34m\u001b[0m\u001b[0m\n\u001b[1;32m    115\u001b[0m \u001b[0;34m\u001b[0m\u001b[0m\n\u001b[0;32m--> 116\u001b[0;31m     \u001b[0;32mreturn\u001b[0m \u001b[0mmodel\u001b[0m\u001b[0;34m.\u001b[0m\u001b[0mto\u001b[0m\u001b[0;34m(\u001b[0m\u001b[0mdevice\u001b[0m\u001b[0;34m)\u001b[0m\u001b[0;34m\u001b[0m\u001b[0;34m\u001b[0m\u001b[0m\n\u001b[0m",
            "\u001b[0;32m/usr/local/lib/python3.8/dist-packages/torch/nn/modules/module.py\u001b[0m in \u001b[0;36mto\u001b[0;34m(self, *args, **kwargs)\u001b[0m\n\u001b[1;32m    985\u001b[0m             \u001b[0;32mreturn\u001b[0m \u001b[0mt\u001b[0m\u001b[0;34m.\u001b[0m\u001b[0mto\u001b[0m\u001b[0;34m(\u001b[0m\u001b[0mdevice\u001b[0m\u001b[0;34m,\u001b[0m \u001b[0mdtype\u001b[0m \u001b[0;32mif\u001b[0m \u001b[0mt\u001b[0m\u001b[0;34m.\u001b[0m\u001b[0mis_floating_point\u001b[0m\u001b[0;34m(\u001b[0m\u001b[0;34m)\u001b[0m \u001b[0;32mor\u001b[0m \u001b[0mt\u001b[0m\u001b[0;34m.\u001b[0m\u001b[0mis_complex\u001b[0m\u001b[0;34m(\u001b[0m\u001b[0;34m)\u001b[0m \u001b[0;32melse\u001b[0m \u001b[0;32mNone\u001b[0m\u001b[0;34m,\u001b[0m \u001b[0mnon_blocking\u001b[0m\u001b[0;34m)\u001b[0m\u001b[0;34m\u001b[0m\u001b[0;34m\u001b[0m\u001b[0m\n\u001b[1;32m    986\u001b[0m \u001b[0;34m\u001b[0m\u001b[0m\n\u001b[0;32m--> 987\u001b[0;31m         \u001b[0;32mreturn\u001b[0m \u001b[0mself\u001b[0m\u001b[0;34m.\u001b[0m\u001b[0m_apply\u001b[0m\u001b[0;34m(\u001b[0m\u001b[0mconvert\u001b[0m\u001b[0;34m)\u001b[0m\u001b[0;34m\u001b[0m\u001b[0;34m\u001b[0m\u001b[0m\n\u001b[0m\u001b[1;32m    988\u001b[0m \u001b[0;34m\u001b[0m\u001b[0m\n\u001b[1;32m    989\u001b[0m     def register_backward_hook(\n",
            "\u001b[0;32m/usr/local/lib/python3.8/dist-packages/torch/nn/modules/module.py\u001b[0m in \u001b[0;36m_apply\u001b[0;34m(self, fn)\u001b[0m\n\u001b[1;32m    637\u001b[0m     \u001b[0;32mdef\u001b[0m \u001b[0m_apply\u001b[0m\u001b[0;34m(\u001b[0m\u001b[0mself\u001b[0m\u001b[0;34m,\u001b[0m \u001b[0mfn\u001b[0m\u001b[0;34m)\u001b[0m\u001b[0;34m:\u001b[0m\u001b[0;34m\u001b[0m\u001b[0;34m\u001b[0m\u001b[0m\n\u001b[1;32m    638\u001b[0m         \u001b[0;32mfor\u001b[0m \u001b[0mmodule\u001b[0m \u001b[0;32min\u001b[0m \u001b[0mself\u001b[0m\u001b[0;34m.\u001b[0m\u001b[0mchildren\u001b[0m\u001b[0;34m(\u001b[0m\u001b[0;34m)\u001b[0m\u001b[0;34m:\u001b[0m\u001b[0;34m\u001b[0m\u001b[0;34m\u001b[0m\u001b[0m\n\u001b[0;32m--> 639\u001b[0;31m             \u001b[0mmodule\u001b[0m\u001b[0;34m.\u001b[0m\u001b[0m_apply\u001b[0m\u001b[0;34m(\u001b[0m\u001b[0mfn\u001b[0m\u001b[0;34m)\u001b[0m\u001b[0;34m\u001b[0m\u001b[0;34m\u001b[0m\u001b[0m\n\u001b[0m\u001b[1;32m    640\u001b[0m \u001b[0;34m\u001b[0m\u001b[0m\n\u001b[1;32m    641\u001b[0m         \u001b[0;32mdef\u001b[0m \u001b[0mcompute_should_use_set_data\u001b[0m\u001b[0;34m(\u001b[0m\u001b[0mtensor\u001b[0m\u001b[0;34m,\u001b[0m \u001b[0mtensor_applied\u001b[0m\u001b[0;34m)\u001b[0m\u001b[0;34m:\u001b[0m\u001b[0;34m\u001b[0m\u001b[0;34m\u001b[0m\u001b[0m\n",
            "\u001b[0;32m/usr/local/lib/python3.8/dist-packages/torch/nn/modules/module.py\u001b[0m in \u001b[0;36m_apply\u001b[0;34m(self, fn)\u001b[0m\n\u001b[1;32m    637\u001b[0m     \u001b[0;32mdef\u001b[0m \u001b[0m_apply\u001b[0m\u001b[0;34m(\u001b[0m\u001b[0mself\u001b[0m\u001b[0;34m,\u001b[0m \u001b[0mfn\u001b[0m\u001b[0;34m)\u001b[0m\u001b[0;34m:\u001b[0m\u001b[0;34m\u001b[0m\u001b[0;34m\u001b[0m\u001b[0m\n\u001b[1;32m    638\u001b[0m         \u001b[0;32mfor\u001b[0m \u001b[0mmodule\u001b[0m \u001b[0;32min\u001b[0m \u001b[0mself\u001b[0m\u001b[0;34m.\u001b[0m\u001b[0mchildren\u001b[0m\u001b[0;34m(\u001b[0m\u001b[0;34m)\u001b[0m\u001b[0;34m:\u001b[0m\u001b[0;34m\u001b[0m\u001b[0;34m\u001b[0m\u001b[0m\n\u001b[0;32m--> 639\u001b[0;31m             \u001b[0mmodule\u001b[0m\u001b[0;34m.\u001b[0m\u001b[0m_apply\u001b[0m\u001b[0;34m(\u001b[0m\u001b[0mfn\u001b[0m\u001b[0;34m)\u001b[0m\u001b[0;34m\u001b[0m\u001b[0;34m\u001b[0m\u001b[0m\n\u001b[0m\u001b[1;32m    640\u001b[0m \u001b[0;34m\u001b[0m\u001b[0m\n\u001b[1;32m    641\u001b[0m         \u001b[0;32mdef\u001b[0m \u001b[0mcompute_should_use_set_data\u001b[0m\u001b[0;34m(\u001b[0m\u001b[0mtensor\u001b[0m\u001b[0;34m,\u001b[0m \u001b[0mtensor_applied\u001b[0m\u001b[0;34m)\u001b[0m\u001b[0;34m:\u001b[0m\u001b[0;34m\u001b[0m\u001b[0;34m\u001b[0m\u001b[0m\n",
            "\u001b[0;32m/usr/local/lib/python3.8/dist-packages/torch/nn/modules/module.py\u001b[0m in \u001b[0;36m_apply\u001b[0;34m(self, fn)\u001b[0m\n\u001b[1;32m    637\u001b[0m     \u001b[0;32mdef\u001b[0m \u001b[0m_apply\u001b[0m\u001b[0;34m(\u001b[0m\u001b[0mself\u001b[0m\u001b[0;34m,\u001b[0m \u001b[0mfn\u001b[0m\u001b[0;34m)\u001b[0m\u001b[0;34m:\u001b[0m\u001b[0;34m\u001b[0m\u001b[0;34m\u001b[0m\u001b[0m\n\u001b[1;32m    638\u001b[0m         \u001b[0;32mfor\u001b[0m \u001b[0mmodule\u001b[0m \u001b[0;32min\u001b[0m \u001b[0mself\u001b[0m\u001b[0;34m.\u001b[0m\u001b[0mchildren\u001b[0m\u001b[0;34m(\u001b[0m\u001b[0;34m)\u001b[0m\u001b[0;34m:\u001b[0m\u001b[0;34m\u001b[0m\u001b[0;34m\u001b[0m\u001b[0m\n\u001b[0;32m--> 639\u001b[0;31m             \u001b[0mmodule\u001b[0m\u001b[0;34m.\u001b[0m\u001b[0m_apply\u001b[0m\u001b[0;34m(\u001b[0m\u001b[0mfn\u001b[0m\u001b[0;34m)\u001b[0m\u001b[0;34m\u001b[0m\u001b[0;34m\u001b[0m\u001b[0m\n\u001b[0m\u001b[1;32m    640\u001b[0m \u001b[0;34m\u001b[0m\u001b[0m\n\u001b[1;32m    641\u001b[0m         \u001b[0;32mdef\u001b[0m \u001b[0mcompute_should_use_set_data\u001b[0m\u001b[0;34m(\u001b[0m\u001b[0mtensor\u001b[0m\u001b[0;34m,\u001b[0m \u001b[0mtensor_applied\u001b[0m\u001b[0;34m)\u001b[0m\u001b[0;34m:\u001b[0m\u001b[0;34m\u001b[0m\u001b[0;34m\u001b[0m\u001b[0m\n",
            "\u001b[0;32m/usr/local/lib/python3.8/dist-packages/torch/nn/modules/module.py\u001b[0m in \u001b[0;36m_apply\u001b[0;34m(self, fn)\u001b[0m\n\u001b[1;32m    637\u001b[0m     \u001b[0;32mdef\u001b[0m \u001b[0m_apply\u001b[0m\u001b[0;34m(\u001b[0m\u001b[0mself\u001b[0m\u001b[0;34m,\u001b[0m \u001b[0mfn\u001b[0m\u001b[0;34m)\u001b[0m\u001b[0;34m:\u001b[0m\u001b[0;34m\u001b[0m\u001b[0;34m\u001b[0m\u001b[0m\n\u001b[1;32m    638\u001b[0m         \u001b[0;32mfor\u001b[0m \u001b[0mmodule\u001b[0m \u001b[0;32min\u001b[0m \u001b[0mself\u001b[0m\u001b[0;34m.\u001b[0m\u001b[0mchildren\u001b[0m\u001b[0;34m(\u001b[0m\u001b[0;34m)\u001b[0m\u001b[0;34m:\u001b[0m\u001b[0;34m\u001b[0m\u001b[0;34m\u001b[0m\u001b[0m\n\u001b[0;32m--> 639\u001b[0;31m             \u001b[0mmodule\u001b[0m\u001b[0;34m.\u001b[0m\u001b[0m_apply\u001b[0m\u001b[0;34m(\u001b[0m\u001b[0mfn\u001b[0m\u001b[0;34m)\u001b[0m\u001b[0;34m\u001b[0m\u001b[0;34m\u001b[0m\u001b[0m\n\u001b[0m\u001b[1;32m    640\u001b[0m \u001b[0;34m\u001b[0m\u001b[0m\n\u001b[1;32m    641\u001b[0m         \u001b[0;32mdef\u001b[0m \u001b[0mcompute_should_use_set_data\u001b[0m\u001b[0;34m(\u001b[0m\u001b[0mtensor\u001b[0m\u001b[0;34m,\u001b[0m \u001b[0mtensor_applied\u001b[0m\u001b[0;34m)\u001b[0m\u001b[0;34m:\u001b[0m\u001b[0;34m\u001b[0m\u001b[0;34m\u001b[0m\u001b[0m\n",
            "\u001b[0;32m/usr/local/lib/python3.8/dist-packages/torch/nn/modules/module.py\u001b[0m in \u001b[0;36m_apply\u001b[0;34m(self, fn)\u001b[0m\n\u001b[1;32m    637\u001b[0m     \u001b[0;32mdef\u001b[0m \u001b[0m_apply\u001b[0m\u001b[0;34m(\u001b[0m\u001b[0mself\u001b[0m\u001b[0;34m,\u001b[0m \u001b[0mfn\u001b[0m\u001b[0;34m)\u001b[0m\u001b[0;34m:\u001b[0m\u001b[0;34m\u001b[0m\u001b[0;34m\u001b[0m\u001b[0m\n\u001b[1;32m    638\u001b[0m         \u001b[0;32mfor\u001b[0m \u001b[0mmodule\u001b[0m \u001b[0;32min\u001b[0m \u001b[0mself\u001b[0m\u001b[0;34m.\u001b[0m\u001b[0mchildren\u001b[0m\u001b[0;34m(\u001b[0m\u001b[0;34m)\u001b[0m\u001b[0;34m:\u001b[0m\u001b[0;34m\u001b[0m\u001b[0;34m\u001b[0m\u001b[0m\n\u001b[0;32m--> 639\u001b[0;31m             \u001b[0mmodule\u001b[0m\u001b[0;34m.\u001b[0m\u001b[0m_apply\u001b[0m\u001b[0;34m(\u001b[0m\u001b[0mfn\u001b[0m\u001b[0;34m)\u001b[0m\u001b[0;34m\u001b[0m\u001b[0;34m\u001b[0m\u001b[0m\n\u001b[0m\u001b[1;32m    640\u001b[0m \u001b[0;34m\u001b[0m\u001b[0m\n\u001b[1;32m    641\u001b[0m         \u001b[0;32mdef\u001b[0m \u001b[0mcompute_should_use_set_data\u001b[0m\u001b[0;34m(\u001b[0m\u001b[0mtensor\u001b[0m\u001b[0;34m,\u001b[0m \u001b[0mtensor_applied\u001b[0m\u001b[0;34m)\u001b[0m\u001b[0;34m:\u001b[0m\u001b[0;34m\u001b[0m\u001b[0;34m\u001b[0m\u001b[0m\n",
            "\u001b[0;32m/usr/local/lib/python3.8/dist-packages/torch/nn/modules/module.py\u001b[0m in \u001b[0;36m_apply\u001b[0;34m(self, fn)\u001b[0m\n\u001b[1;32m    660\u001b[0m             \u001b[0;31m# `with torch.no_grad():`\u001b[0m\u001b[0;34m\u001b[0m\u001b[0;34m\u001b[0m\u001b[0;34m\u001b[0m\u001b[0m\n\u001b[1;32m    661\u001b[0m             \u001b[0;32mwith\u001b[0m \u001b[0mtorch\u001b[0m\u001b[0;34m.\u001b[0m\u001b[0mno_grad\u001b[0m\u001b[0;34m(\u001b[0m\u001b[0;34m)\u001b[0m\u001b[0;34m:\u001b[0m\u001b[0;34m\u001b[0m\u001b[0;34m\u001b[0m\u001b[0m\n\u001b[0;32m--> 662\u001b[0;31m                 \u001b[0mparam_applied\u001b[0m \u001b[0;34m=\u001b[0m \u001b[0mfn\u001b[0m\u001b[0;34m(\u001b[0m\u001b[0mparam\u001b[0m\u001b[0;34m)\u001b[0m\u001b[0;34m\u001b[0m\u001b[0;34m\u001b[0m\u001b[0m\n\u001b[0m\u001b[1;32m    663\u001b[0m             \u001b[0mshould_use_set_data\u001b[0m \u001b[0;34m=\u001b[0m \u001b[0mcompute_should_use_set_data\u001b[0m\u001b[0;34m(\u001b[0m\u001b[0mparam\u001b[0m\u001b[0;34m,\u001b[0m \u001b[0mparam_applied\u001b[0m\u001b[0;34m)\u001b[0m\u001b[0;34m\u001b[0m\u001b[0;34m\u001b[0m\u001b[0m\n\u001b[1;32m    664\u001b[0m             \u001b[0;32mif\u001b[0m \u001b[0mshould_use_set_data\u001b[0m\u001b[0;34m:\u001b[0m\u001b[0;34m\u001b[0m\u001b[0;34m\u001b[0m\u001b[0m\n",
            "\u001b[0;32m/usr/local/lib/python3.8/dist-packages/torch/nn/modules/module.py\u001b[0m in \u001b[0;36mconvert\u001b[0;34m(t)\u001b[0m\n\u001b[1;32m    983\u001b[0m                 return t.to(device, dtype if t.is_floating_point() or t.is_complex() else None,\n\u001b[1;32m    984\u001b[0m                             non_blocking, memory_format=convert_to_format)\n\u001b[0;32m--> 985\u001b[0;31m             \u001b[0;32mreturn\u001b[0m \u001b[0mt\u001b[0m\u001b[0;34m.\u001b[0m\u001b[0mto\u001b[0m\u001b[0;34m(\u001b[0m\u001b[0mdevice\u001b[0m\u001b[0;34m,\u001b[0m \u001b[0mdtype\u001b[0m \u001b[0;32mif\u001b[0m \u001b[0mt\u001b[0m\u001b[0;34m.\u001b[0m\u001b[0mis_floating_point\u001b[0m\u001b[0;34m(\u001b[0m\u001b[0;34m)\u001b[0m \u001b[0;32mor\u001b[0m \u001b[0mt\u001b[0m\u001b[0;34m.\u001b[0m\u001b[0mis_complex\u001b[0m\u001b[0;34m(\u001b[0m\u001b[0;34m)\u001b[0m \u001b[0;32melse\u001b[0m \u001b[0;32mNone\u001b[0m\u001b[0;34m,\u001b[0m \u001b[0mnon_blocking\u001b[0m\u001b[0;34m)\u001b[0m\u001b[0;34m\u001b[0m\u001b[0;34m\u001b[0m\u001b[0m\n\u001b[0m\u001b[1;32m    986\u001b[0m \u001b[0;34m\u001b[0m\u001b[0m\n\u001b[1;32m    987\u001b[0m         \u001b[0;32mreturn\u001b[0m \u001b[0mself\u001b[0m\u001b[0;34m.\u001b[0m\u001b[0m_apply\u001b[0m\u001b[0;34m(\u001b[0m\u001b[0mconvert\u001b[0m\u001b[0;34m)\u001b[0m\u001b[0;34m\u001b[0m\u001b[0;34m\u001b[0m\u001b[0m\n",
            "\u001b[0;31mOutOfMemoryError\u001b[0m: CUDA out of memory. Tried to allocate 20.00 MiB (GPU 0; 14.76 GiB total capacity; 13.09 GiB already allocated; 19.75 MiB free; 13.49 GiB reserved in total by PyTorch) If reserved memory is >> allocated memory try setting max_split_size_mb to avoid fragmentation.  See documentation for Memory Management and PYTORCH_CUDA_ALLOC_CONF"
          ]
        }
      ]
    },
    {
      "cell_type": "code",
      "source": [
        "from google.colab import drive\n",
        "drive.mount('/content/drive')"
      ],
      "metadata": {
        "id": "BMd-irxfherm"
      },
      "execution_count": null,
      "outputs": []
    }
  ]
}